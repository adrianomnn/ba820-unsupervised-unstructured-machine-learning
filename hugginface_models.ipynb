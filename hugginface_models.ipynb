{
  "nbformat": 4,
  "nbformat_minor": 0,
  "metadata": {
    "colab": {
      "provenance": [],
      "toc_visible": true
    },
    "kernelspec": {
      "name": "python3",
      "display_name": "Python 3"
    },
    "language_info": {
      "name": "python"
    }
  },
  "cells": [
    {
      "cell_type": "code",
      "execution_count": 2,
      "metadata": {
        "id": "dBgi2DsR7Vi3"
      },
      "outputs": [],
      "source": [
        "import requests\n",
        "\n",
        "import torch\n",
        "from PIL import Image\n",
        "\n",
        "from transformers import Qwen2VLForConditionalGeneration, AutoTokenizer, AutoProcessor, AutoModelForCausalLM, AutoModelForImageTextToText"
      ]
    },
    {
      "cell_type": "markdown",
      "source": [
        "# Image-Text"
      ],
      "metadata": {
        "id": "IZG0g9CR-adt"
      }
    },
    {
      "cell_type": "markdown",
      "source": [
        "## Qwen/Qwen2-VL-7B-Instruct"
      ],
      "metadata": {
        "id": "9Vnq3CzR7e70"
      }
    },
    {
      "cell_type": "code",
      "source": [
        "!pip install qwen-vl-utils"
      ],
      "metadata": {
        "colab": {
          "base_uri": "https://localhost:8080/"
        },
        "id": "Mt0NFfn50Dpv",
        "outputId": "459625b2-ed47-425e-f39a-307f2a2760ee"
      },
      "execution_count": null,
      "outputs": [
        {
          "output_type": "stream",
          "name": "stdout",
          "text": [
            "Collecting qwen-vl-utils\n",
            "  Downloading qwen_vl_utils-0.0.10-py3-none-any.whl.metadata (6.3 kB)\n",
            "Collecting av (from qwen-vl-utils)\n",
            "  Downloading av-14.1.0-cp311-cp311-manylinux_2_17_x86_64.manylinux2014_x86_64.whl.metadata (4.7 kB)\n",
            "Requirement already satisfied: packaging in /usr/local/lib/python3.11/dist-packages (from qwen-vl-utils) (24.2)\n",
            "Requirement already satisfied: pillow in /usr/local/lib/python3.11/dist-packages (from qwen-vl-utils) (11.1.0)\n",
            "Requirement already satisfied: requests in /usr/local/lib/python3.11/dist-packages (from qwen-vl-utils) (2.32.3)\n",
            "Requirement already satisfied: charset-normalizer<4,>=2 in /usr/local/lib/python3.11/dist-packages (from requests->qwen-vl-utils) (3.4.1)\n",
            "Requirement already satisfied: idna<4,>=2.5 in /usr/local/lib/python3.11/dist-packages (from requests->qwen-vl-utils) (3.10)\n",
            "Requirement already satisfied: urllib3<3,>=1.21.1 in /usr/local/lib/python3.11/dist-packages (from requests->qwen-vl-utils) (2.3.0)\n",
            "Requirement already satisfied: certifi>=2017.4.17 in /usr/local/lib/python3.11/dist-packages (from requests->qwen-vl-utils) (2025.1.31)\n",
            "Downloading qwen_vl_utils-0.0.10-py3-none-any.whl (6.7 kB)\n",
            "Downloading av-14.1.0-cp311-cp311-manylinux_2_17_x86_64.manylinux2014_x86_64.whl (39.5 MB)\n",
            "\u001b[2K   \u001b[90m━━━━━━━━━━━━━━━━━━━━━━━━━━━━━━━━━━━━━━━━\u001b[0m \u001b[32m39.5/39.5 MB\u001b[0m \u001b[31m55.6 MB/s\u001b[0m eta \u001b[36m0:00:00\u001b[0m\n",
            "\u001b[?25hInstalling collected packages: av, qwen-vl-utils\n",
            "Successfully installed av-14.1.0 qwen-vl-utils-0.0.10\n"
          ]
        }
      ]
    },
    {
      "cell_type": "code",
      "source": [
        "from qwen_vl_utils import process_vision_info"
      ],
      "metadata": {
        "id": "tRrJdymsAGn7"
      },
      "execution_count": null,
      "outputs": []
    },
    {
      "cell_type": "code",
      "source": [
        "# default: Load the model on the available device(s)\n",
        "model = Qwen2VLForConditionalGeneration.from_pretrained(\n",
        "    \"Qwen/Qwen2-VL-7B-Instruct\", torch_dtype=\"auto\", device_map=\"auto\"\n",
        ")\n",
        "\n",
        "# default processer\n",
        "processor = AutoProcessor.from_pretrained(\"Qwen/Qwen2-VL-7B-Instruct\")\n",
        "\n",
        "messages = [\n",
        "    {\n",
        "        \"role\": \"user\",\n",
        "        \"content\": [\n",
        "            {\n",
        "                \"type\": \"image\",\n",
        "                \"image\": \"https://raw.githubusercontent.com/vis-nlp/ChartQA/main/ChartQA%20Dataset/val/png/multi_col_1229.png\",\n",
        "            },\n",
        "            {\"type\": \"text\", \"text\": \"Give me detailed insights of the picture then generate some interesting business insights.\"},\n",
        "        ],\n",
        "    }\n",
        "]\n",
        "\n",
        "# Preparation for inference\n",
        "text = processor.apply_chat_template(\n",
        "    messages, tokenize=False, add_generation_prompt=True\n",
        ")\n",
        "image_inputs, video_inputs = process_vision_info(messages)\n",
        "inputs = processor(\n",
        "    text=[text],\n",
        "    images=image_inputs,\n",
        "    videos=video_inputs,\n",
        "    padding=True,\n",
        "    return_tensors=\"pt\",\n",
        ")\n",
        "\n",
        "# Inference: Generation of the output\n",
        "generated_ids = model.generate(**inputs, max_new_tokens=128)\n",
        "generated_ids_trimmed = [\n",
        "    out_ids[len(in_ids) :] for in_ids, out_ids in zip(inputs.input_ids, generated_ids)\n",
        "]\n",
        "output_text = processor.batch_decode(\n",
        "    generated_ids_trimmed, skip_special_tokens=True, clean_up_tokenization_spaces=False\n",
        ")\n",
        "print(output_text)"
      ],
      "metadata": {
        "colab": {
          "base_uri": "https://localhost:8080/",
          "height": 120,
          "referenced_widgets": [
            "cb786ebcaf4844ebb3f88bd90586809d",
            "58ac44205c9341a5a3884e9703451837",
            "b9a28c20958f4c9aba88740add081c41",
            "ed0a0d8b2b5f4636a3ff383ace97a946",
            "d087291a0ec34f249dd4d4f7c30ff073",
            "f71b661625744fc59502aace6ce85108",
            "5c3d0b610d5944a0937d9ae2b93bb1f6",
            "178fddb5bb3a4423a484031b0c13157c",
            "cc584c5c9eab42c881c46a5f8e7afd8a",
            "aff88cb4b1464944b7f9c9691aebbb47",
            "21ea32e5a2d54525afe768046825c3f7"
          ]
        },
        "id": "nqAIwNthxz4P",
        "outputId": "07843418-e28d-4ff6-d1c0-615f121cea97"
      },
      "execution_count": null,
      "outputs": [
        {
          "output_type": "stream",
          "name": "stderr",
          "text": [
            "/usr/local/lib/python3.11/dist-packages/accelerate/utils/modeling.py:1536: UserWarning: Current model requires 3752 bytes of buffer for offloaded layers, which seems does not fit any GPU's remaining memory. If you are experiencing a OOM later, please consider using offload_buffers=True.\n",
            "  warnings.warn(\n"
          ]
        },
        {
          "output_type": "display_data",
          "data": {
            "text/plain": [
              "Loading checkpoint shards:   0%|          | 0/5 [00:00<?, ?it/s]"
            ],
            "application/vnd.jupyter.widget-view+json": {
              "version_major": 2,
              "version_minor": 0,
              "model_id": "cb786ebcaf4844ebb3f88bd90586809d"
            }
          },
          "metadata": {}
        },
        {
          "output_type": "stream",
          "name": "stdout",
          "text": [
            "['The bar chart illustrates the distribution of Facebook Messenger and WhatsApp users across different age groups in the United States as of 2021. \\n\\nKey insights from the chart include:\\n\\n1. **Facebook Messenger Dominance**: Facebook Messenger is significantly more popular than WhatsApp across all age groups. The highest percentage of Facebook Messenger users is among the 18-29 age group, with 73% of respondents using it. This indicates that Facebook Messenger is particularly popular among younger adults.\\n\\n2. **WhatsApp Usage**: WhatsApp usage is highest among the 30-59 age group, with 66% of respondents using it']\n"
          ]
        }
      ]
    },
    {
      "cell_type": "markdown",
      "source": [
        "## microsoft/Florence-2-large"
      ],
      "metadata": {
        "id": "JrptS1iz8HvL"
      }
    },
    {
      "cell_type": "code",
      "source": [
        "model_id = 'microsoft/Florence-2-large'\n",
        "device = torch.device(\"cuda\" if torch.cuda.is_available() else \"cpu\")\n",
        "torch_dtype = torch.float16 if torch.cuda.is_available() else torch.float32\n",
        "model = AutoModelForCausalLM.from_pretrained(model_id, trust_remote_code=True, torch_dtype=torch_dtype).to(device)\n",
        "processor = AutoProcessor.from_pretrained(model_id, trust_remote_code=True)"
      ],
      "metadata": {
        "colab": {
          "base_uri": "https://localhost:8080/",
          "height": 513,
          "referenced_widgets": [
            "64643e56e3c84182ac41dc2004b51e11",
            "f64e8f48c1bf4caba982d4affc328e97",
            "8c4c1da356274b6083ed9de2556bfc5d",
            "b21bad3dc02e4e008d7344eef4e155ca",
            "8932c2e4d26b4ad693e885c79ca5d427",
            "19a668fd04294e4c9109264e082352e4",
            "da03dfb84f55400c9f22e13401451a68",
            "92515e0815c148f6a4bcc161fe7fd6d1",
            "a835ce9015ed4fc3800181209eb60ee8",
            "a4b078dae93a44c4966780c43e4c26af",
            "92a0fb7cdf8141299d933d36e372a348",
            "9e0d73522d1b4c00b86f7d85cc8ecdcb",
            "ea3931008e1e4070803bcc8831ce3866",
            "a6a4eb0c46ae44d9aa78185f4ebc24f1",
            "d0c137d634db40cdbcb4eed2307ca4ef",
            "6c50273b572a42969e9b986c62b2376d",
            "bc3528c92fad4d80a89a39a070a99df2",
            "96757ea940ad476bb3f411ee848bd950",
            "96519fc5bc894e048206a6c75bbf8393",
            "de56917b099d4712aa742a73a60221e5",
            "375dd9e3929a47b1961ce17e6eab481d",
            "8698c59533df4376b13c819e2b9c36da",
            "4fa04bd0b95f4663a6a726bbbda67c4e",
            "f6c708594d9347d09c234b197383ad04",
            "e67367f5a625403a876f8c617ceed8cb",
            "53e89c98ac7a46eaa29955c8140f0c34",
            "2e9eea9af91e4daf80bde5d8b1f95030",
            "cf3a4eb70a684c09a0ef684f91bddcef",
            "d8fbd4c4645549f382dc3466487372cb",
            "2fcb1e50ec5c495692069e74949ddcae",
            "2ad241cbf37c4c06b5759707d0d64a1e",
            "121da86ead0d48faa038d7ff56a66aa4",
            "dae534a547d74ae389d9ef5a32a6633f",
            "2551088903844ce48ca8eb86c0409103",
            "c05d869de7614d0494614feb779824a5",
            "48ed916769314273ae887951f16bd664",
            "b2217b904b7e4594a15fad1399725799",
            "c4221cfaeb1b429f8fdc4c068efc4242",
            "0ab2fa14ae0d4149bfdc6a7dbf67e520",
            "c5cd1178855a43769cf1d378b68443db",
            "44ea2a271c6048139c24eb451c202ab3",
            "e06fab0769f24ee98a5313e45c39cba8",
            "7b19a4bbed5f48beacf5d376283c6cf9",
            "cb4b779c298444999eb69ac4ee0d1752",
            "bb42a85c76f04bfa9962e1268730ae3f",
            "5e25229898d5418e822c956919317431",
            "b6602d0d1b3441b39b12ce69346f0983",
            "26880a44d48948d0aa9f1b17275d0533",
            "69c9873c2eda4f2d8ac6d02b46fa1bbb",
            "58e892d4d74440f1b0b9f28ec8103121",
            "521769de0bba45eba50dfa989ba9f0de",
            "77476434e38145eebeb673facef9c095",
            "4817cb0975bc4a7486b5dc033852bace",
            "d243444cb1d54b8fb90e2011a3faaa09",
            "ccf63605bf6d43f883e94a0adcd2692b",
            "8d2997fb61254e40987f2e5e395bdefc",
            "7f7a1415a9424426b109720f9ba65f5a",
            "13d13be229d2484c9103ee1c8cdd349f",
            "17bc039e67d54304aa78510aa1791396",
            "c34eb8711bdf478a975eaf656fc5a179",
            "8ade498c0d0a4dba8c0bb54155d8884c",
            "40f38b55c5f94e92a9a788a45811352e",
            "fc9aa44735a2464991526b3abea6fcc6",
            "ed9b59d35b7040a7999a4c2ecfac0ea5",
            "bcf0c64f6f2f4c76af7a28907507420b",
            "212d1544faba44f4aa1907f79f2edb2a",
            "1f8f04b45bcb41878aec23571cb56bfd",
            "6666f490d01e41f1a1a14feebd899ff1",
            "e75dcfd5fd244c1b87475da9c74a3824",
            "83a32c14c1a0443f9edbb56472cdeb7e",
            "ac3952605f4d4456b0042edeb80be49e",
            "ea183691bcde4aebbd25b0393fe795ac",
            "ae906c58781d46ba9833c60dfbd913cf",
            "ab63f9505d494fb1994fb9ce6793a24e",
            "3cb3b69a105a4bf1b8545b75e63aaeb1",
            "d8ce2fcf3f6c49888c229294aff01104",
            "3c337721981b4a6ea08a141784967ded",
            "772c7c55f5bd451e99e41d03b8a849d7",
            "592c3f71c44142928dfa6e791ee20e11",
            "03db62359bec4be2a30f921162f59229",
            "39cd37ea1c994e5483927466530f2144",
            "de3082af2d46401a88194ebcbec48013",
            "68c3636144f847fba2cf4e90b4b19a9e",
            "f269e9eef8e841f28f874b55e5148570",
            "18de3f39576f472ba948a81e962dd97b",
            "3808f2ba7d3b4bdfb3477ebf931245e9",
            "184f679da260416291d808ad49b64e7c",
            "f6a2e2b528774cc2a1c9fdc135446ea1",
            "5fcc177f85a141d59cd122e3a48cd4d2",
            "237b9487fa0f4dd6b61abe71eb6e4066",
            "885b7a50ad444d909afa179e0bdd12b9",
            "d9e6f2a6b2734d8887e5f3be28b9cbc2",
            "e67a19b3c33b4093856b9327de95cb4d",
            "ee935ca9d25b4ecc8365343f151b7bfc",
            "68a1bc2057db49fd9fd0bce6d2359dfd",
            "64c3f875768c4c38af4fc84fb94ebf3a",
            "3a0e881a9cfc4dcbb9b9e3519e75f77a",
            "fc0dfd0376fb45adbf1ff43ee6f1ce79",
            "e54dd4f817964051a9437ff6360ca1ad",
            "ef52fbdc5d684803a12d386cd11d7be4",
            "2c418ed3117b49fcb733ca0481bdcaea",
            "1dd73406e47a4d9c8890bafb2d368067",
            "118e621e05ed406faa165332f3d0463d",
            "a784af93070f41328b1d7d3eee36d104",
            "51f0df9c50794d86b2143b89d13113b8",
            "d35423d6fd0b4a43bf62f014e9542725",
            "caf0121068e34a99b51e945e62d93f1f",
            "af8afc7156be41c38275fadfa3ab1256",
            "1aaafc817ca54790968f7157a34085ad",
            "ffcc063d8cd147e388677fed1d30a7b3"
          ]
        },
        "id": "93r_77znd7xv",
        "outputId": "8f8fdade-8cee-4902-9506-aca08e444800"
      },
      "execution_count": null,
      "outputs": [
        {
          "output_type": "display_data",
          "data": {
            "text/plain": [
              "config.json:   0%|          | 0.00/2.44k [00:00<?, ?B/s]"
            ],
            "application/vnd.jupyter.widget-view+json": {
              "version_major": 2,
              "version_minor": 0,
              "model_id": "64643e56e3c84182ac41dc2004b51e11"
            }
          },
          "metadata": {}
        },
        {
          "output_type": "display_data",
          "data": {
            "text/plain": [
              "configuration_florence2.py:   0%|          | 0.00/15.1k [00:00<?, ?B/s]"
            ],
            "application/vnd.jupyter.widget-view+json": {
              "version_major": 2,
              "version_minor": 0,
              "model_id": "9e0d73522d1b4c00b86f7d85cc8ecdcb"
            }
          },
          "metadata": {}
        },
        {
          "output_type": "stream",
          "name": "stderr",
          "text": [
            "A new version of the following files was downloaded from https://huggingface.co/microsoft/Florence-2-large:\n",
            "- configuration_florence2.py\n",
            ". Make sure to double-check they do not contain any added malicious code. To avoid downloading new versions of the code file, you can pin a revision.\n"
          ]
        },
        {
          "output_type": "display_data",
          "data": {
            "text/plain": [
              "modeling_florence2.py:   0%|          | 0.00/127k [00:00<?, ?B/s]"
            ],
            "application/vnd.jupyter.widget-view+json": {
              "version_major": 2,
              "version_minor": 0,
              "model_id": "4fa04bd0b95f4663a6a726bbbda67c4e"
            }
          },
          "metadata": {}
        },
        {
          "output_type": "stream",
          "name": "stderr",
          "text": [
            "A new version of the following files was downloaded from https://huggingface.co/microsoft/Florence-2-large:\n",
            "- modeling_florence2.py\n",
            ". Make sure to double-check they do not contain any added malicious code. To avoid downloading new versions of the code file, you can pin a revision.\n"
          ]
        },
        {
          "output_type": "display_data",
          "data": {
            "text/plain": [
              "pytorch_model.bin:   0%|          | 0.00/1.56G [00:00<?, ?B/s]"
            ],
            "application/vnd.jupyter.widget-view+json": {
              "version_major": 2,
              "version_minor": 0,
              "model_id": "2551088903844ce48ca8eb86c0409103"
            }
          },
          "metadata": {}
        },
        {
          "output_type": "display_data",
          "data": {
            "text/plain": [
              "generation_config.json:   0%|          | 0.00/51.0 [00:00<?, ?B/s]"
            ],
            "application/vnd.jupyter.widget-view+json": {
              "version_major": 2,
              "version_minor": 0,
              "model_id": "bb42a85c76f04bfa9962e1268730ae3f"
            }
          },
          "metadata": {}
        },
        {
          "output_type": "display_data",
          "data": {
            "text/plain": [
              "preprocessor_config.json:   0%|          | 0.00/806 [00:00<?, ?B/s]"
            ],
            "application/vnd.jupyter.widget-view+json": {
              "version_major": 2,
              "version_minor": 0,
              "model_id": "8d2997fb61254e40987f2e5e395bdefc"
            }
          },
          "metadata": {}
        },
        {
          "output_type": "display_data",
          "data": {
            "text/plain": [
              "processing_florence2.py:   0%|          | 0.00/48.7k [00:00<?, ?B/s]"
            ],
            "application/vnd.jupyter.widget-view+json": {
              "version_major": 2,
              "version_minor": 0,
              "model_id": "1f8f04b45bcb41878aec23571cb56bfd"
            }
          },
          "metadata": {}
        },
        {
          "output_type": "stream",
          "name": "stderr",
          "text": [
            "A new version of the following files was downloaded from https://huggingface.co/microsoft/Florence-2-large:\n",
            "- processing_florence2.py\n",
            ". Make sure to double-check they do not contain any added malicious code. To avoid downloading new versions of the code file, you can pin a revision.\n"
          ]
        },
        {
          "output_type": "display_data",
          "data": {
            "text/plain": [
              "tokenizer_config.json:   0%|          | 0.00/34.0 [00:00<?, ?B/s]"
            ],
            "application/vnd.jupyter.widget-view+json": {
              "version_major": 2,
              "version_minor": 0,
              "model_id": "772c7c55f5bd451e99e41d03b8a849d7"
            }
          },
          "metadata": {}
        },
        {
          "output_type": "display_data",
          "data": {
            "text/plain": [
              "vocab.json:   0%|          | 0.00/1.10M [00:00<?, ?B/s]"
            ],
            "application/vnd.jupyter.widget-view+json": {
              "version_major": 2,
              "version_minor": 0,
              "model_id": "5fcc177f85a141d59cd122e3a48cd4d2"
            }
          },
          "metadata": {}
        },
        {
          "output_type": "display_data",
          "data": {
            "text/plain": [
              "tokenizer.json:   0%|          | 0.00/1.36M [00:00<?, ?B/s]"
            ],
            "application/vnd.jupyter.widget-view+json": {
              "version_major": 2,
              "version_minor": 0,
              "model_id": "ef52fbdc5d684803a12d386cd11d7be4"
            }
          },
          "metadata": {}
        }
      ]
    },
    {
      "cell_type": "code",
      "source": [
        "def run_example(task_prompt, image=None, text_input=None):\n",
        "    if text_input is None:\n",
        "        prompt = task_prompt\n",
        "    else:\n",
        "        prompt = task_prompt + text_input\n",
        "\n",
        "    image = image.convert('RGB')\n",
        "    inputs = processor(text=prompt, images=image, return_tensors=\"pt\").to(device)\n",
        "    generated_ids = model.generate(\n",
        "      input_ids=inputs[\"input_ids\"],\n",
        "      pixel_values=inputs[\"pixel_values\"],\n",
        "      max_new_tokens=1024,\n",
        "      early_stopping=False,\n",
        "      do_sample=False,\n",
        "      num_beams=3,\n",
        "    )\n",
        "    generated_text = processor.batch_decode(generated_ids, skip_special_tokens=False)[0]\n",
        "    parsed_answer = processor.post_process_generation(\n",
        "        generated_text,\n",
        "        task=task_prompt,\n",
        "        image_size=(image.width, image.height)\n",
        "    )\n",
        "\n",
        "    parsed_answer_cleaned = parsed_answer.get('<MORE_DETAILED_CAPTION>', parsed_answer)\n",
        "\n",
        "    formatted_answer = \"\\n\\n\".join([p.strip() for p in parsed_answer_cleaned.split(\"\\n\") if p.strip()])\n",
        "\n",
        "    return print(formatted_answer)\n",
        "\n",
        "url = \"https://raw.githubusercontent.com/vis-nlp/ChartQA/main/ChartQA%20Dataset/val/png/multi_col_1229.png\"\n",
        "image = Image.open(requests.get(url, stream=True).raw)\n",
        "task_prompt = '<MORE_DETAILED_CAPTION>'\n",
        "run_example(task_prompt, image)"
      ],
      "metadata": {
        "colab": {
          "base_uri": "https://localhost:8080/"
        },
        "id": "euwOP1U9ZFZv",
        "outputId": "ddef0e44-bb19-4f42-c8b9-4af6a3a5dada"
      },
      "execution_count": null,
      "outputs": [
        {
          "output_type": "stream",
          "name": "stdout",
          "text": [
            "The image is a bar graph that shows the percentage of respondents who have received Facebook Messenger and WhatsApp messages. The x-axis of the graph is divided into four sections, each representing a different percentage.\n",
            "\n",
            "The first section, representing Facebook Messenger, shows that the majority of respondents have received the same percentage as the other three. The second section, represented by WhatsApp, shows a percentage of the respondents. The third section, from 18-29 to 30-59, shows an increase in the percentage. The fourth section, titled \"Facebook Messenger\", shows a decrease in the number of respondents with the highest percentage.\n",
            "\n",
            "There are also several icons on the top right corner of the image, including a search bar, a chat icon, and a social media icon. The text on the image reads \"Additional Information\" and \"Statista 2021\".\n"
          ]
        }
      ]
    },
    {
      "cell_type": "markdown",
      "source": [
        "## Salesforce/blip-image-captioning-base"
      ],
      "metadata": {
        "id": "GfFJyIock5nq"
      }
    },
    {
      "cell_type": "code",
      "source": [
        "processor = AutoProcessor.from_pretrained(\"Salesforce/blip-image-captioning-base\")\n",
        "model = AutoModelForImageTextToText.from_pretrained(\"Salesforce/blip-image-captioning-base\")\n",
        "\n",
        "img_url = 'https://storage.googleapis.com/sfr-vision-language-research/BLIP/demo.jpg'\n",
        "raw_image = Image.open(requests.get(img_url, stream=True).raw).convert('RGB')\n",
        "\n",
        "# unconditional image captioning\n",
        "inputs = processor(raw_image, return_tensors=\"pt\")\n",
        "\n",
        "out = model.generate(**inputs)\n",
        "print(processor.decode(out[0], skip_special_tokens=True))"
      ],
      "metadata": {
        "colab": {
          "base_uri": "https://localhost:8080/"
        },
        "id": "UFqG3vOwlCJ-",
        "outputId": "22879d0d-37b7-463a-9a6f-722ca1f95de1"
      },
      "execution_count": null,
      "outputs": [
        {
          "output_type": "stream",
          "name": "stdout",
          "text": [
            "a woman sitting on the beach with her dog\n"
          ]
        }
      ]
    },
    {
      "cell_type": "code",
      "source": [
        "# Use a pipeline as a high-level helper\n",
        "from transformers import pipeline\n",
        "\n",
        "pipe = pipeline(\"image-to-text\", model=\"Salesforce/blip-image-captioning-base\")\n",
        "\n",
        "pipe('https://raw.githubusercontent.com/vis-nlp/ChartQA/main/ChartQA%20Dataset/val/png/multi_col_1229.png')"
      ],
      "metadata": {
        "colab": {
          "base_uri": "https://localhost:8080/"
        },
        "id": "HVz8SQXeqvcy",
        "outputId": "90cbc3af-e985-40f8-b0d9-6fb5aa7bd1d9"
      },
      "execution_count": null,
      "outputs": [
        {
          "output_type": "stream",
          "name": "stderr",
          "text": [
            "Device set to use cpu\n"
          ]
        },
        {
          "output_type": "execute_result",
          "data": {
            "text/plain": [
              "[{'generated_text': 'a bar chart showing the percentage of facebook users who have been on their account'}]"
            ]
          },
          "metadata": {},
          "execution_count": 15
        }
      ]
    },
    {
      "cell_type": "markdown",
      "source": [
        "# Text-Text"
      ],
      "metadata": {
        "id": "m3u5HDq5q8dJ"
      }
    },
    {
      "cell_type": "markdown",
      "source": [
        "## google/flan-t5-large"
      ],
      "metadata": {
        "id": "EoZdJlcxrQAY"
      }
    },
    {
      "cell_type": "code",
      "source": [
        "from transformers import T5Tokenizer, T5ForConditionalGeneration\n",
        "\n",
        "tokenizer = T5Tokenizer.from_pretrained(\"google/flan-t5-large\")\n",
        "model = T5ForConditionalGeneration.from_pretrained(\"google/flan-t5-large\")\n",
        "\n",
        "input_text = \"create business insights from this chart description: The image is a bar graph that shows the percentage of respondents who have received Facebook Messenger and WhatsApp messages. The x-axis of the graph is divided into four sections, each representing a different percentage.\\n\\nThe first section, representing Facebook Messenger, shows that the majority of respondents have received the same percentage as the other three. The second section, represented by WhatsApp, shows a percentage of the respondents. The third section, from 18-29 to 30-59, shows an increase in the percentage. The fourth section, titled Facebook Messenger, shows a decrease in the number of respondents with the highest percentage. \\n\\nThere are also several icons on the top right corner of the image, including a search bar, a chat icon, and a social media icon. The text on the image reads Additional Information and Statista 2021\"\n",
        "input_ids = tokenizer(input_text, return_tensors=\"pt\").input_ids\n",
        "\n",
        "outputs = model.generate(input_ids)\n",
        "print(tokenizer.decode(outputs[0]))"
      ],
      "metadata": {
        "colab": {
          "base_uri": "https://localhost:8080/",
          "height": 296,
          "referenced_widgets": [
            "58447e8a8e3d4b21a2af7b7c076a0189",
            "553a0ea0d1ba47fdb32a2eb3b3f23025",
            "7afc3efc04704628a042b77a9a6d8664",
            "df934009484d41d5a0502c626494406d",
            "16c9d234f04b41e3b4c9da10b76867a7",
            "492f69b51e17491cadb4f0dc37ffbffd",
            "9d074f1ac2dd49e7b95376586fe2e928",
            "71660d59b03d423f8d4cbdfc0f90485a",
            "92c2c4b7e6204b8687601fc4a7cebfd6",
            "9bc6387dd8f240319d766e478ad1896c",
            "4d49f318177d40ec8350fb3331d795e2",
            "842f793204d346f09e2bd53401578ad3",
            "e1011c80e01c4467b6a563f4df8cf115",
            "19c8c18a4f12464297d0499452249b96",
            "8f61654935914deeb0538154c9238d1f",
            "cd0fcb3c04f744c09bbace90b090efb2",
            "97634372d4c94ac08013a98019a5ec05",
            "676b081ed6a44d48ac5cfeb6f2b8d865",
            "ae324751e640494d98d38bac71cde2bc",
            "40f022efa9c44317a1f5ebeaac9613d0",
            "15a75c250e8448899686217bea46cbb6",
            "3b74127d3d4e44cf85950e7b94740d21",
            "d3cb648152504ea9bf2861d5b793d325",
            "0819d3d5caa245e48c93b83ea578dd76",
            "f28e1c6cbfb941d18feacf22e05c324c",
            "613488d55bab406d919431c6d7887e9c",
            "b207d30d43c64609b1abf7f2c3788202",
            "2a7db78cd39745b58df68f7e8592086f",
            "63bf9a7678e446028932a495ac6c9276",
            "bb6c15f607c74fdbbd82d9faf886a865",
            "57077cf1c4d94f7bad4aa25144294d40",
            "9152c4eb3cb24b9e9ffc2d674cdd02ea",
            "d791202cde8149fe93380b2fae02bac7",
            "33321c0999d5417487c87f77d5b5aa91",
            "bfe7af1de2644532b9a0015b94ebc0e4",
            "153e8d224c7d4f07a0d1a9e5eaf8256d",
            "13fbcd98b2504175b7c0fd8fa8abb378",
            "dfb4f17ed19c42efaf39e1526e907c27",
            "7f8810b8f1c14f49926d0943ddbaad03",
            "f560b4272ae94b48a064455e71be8dec",
            "84108c54ec7a4e10a8a2cd9c20563cc7",
            "d6b4350c3cc64107967196a0cadb93ef",
            "32de4a0d1006439099a8e2609fcd7e38",
            "58b0076c92e643f89e6a2903aa1c3504",
            "15efe4ca569b4db3bbeaa6e13beb6974",
            "ed23e89c9ae340f7bfdeaac9d796ee68",
            "74316b381614428da2bbf451afb7ff21",
            "ef21b835ec2c4ebd80bded276a163e6b",
            "5d44e83a1323446b9152172409819c95",
            "9824bfe6754e4b79ba96647bebcbcf7c",
            "4cda3baddaa946599ee7a59650220bd2",
            "a01c6747d4ae465999f45211edc83602",
            "1fc438a4acfe43578c7ebad662c5f87b",
            "84a41cf408324e519eee1699b7c6ca65",
            "eeb2341c9c9540aabf4995468ffbd7ea",
            "b2ae9d013d6043079ac2ca43bacc1ca5",
            "00ac3b4ca70d4db5983f06767ef39cd5",
            "f710876c8b5b426ab4976ce93a83890b",
            "9e76e9a0f0364e72ac92e594937fa896",
            "ade9f07ba627497eb16d08bd3e4c3eac",
            "c3eef6ccd87a40c8bff1caf0d3c91f64",
            "58d1b69cb2f146608143121630fd0a79",
            "f3029c30a0054e36b47bed695d9aa28f",
            "c60fcc8a223c46e8b588e697685e700e",
            "be502791e26744749cec547512af62ff",
            "d3bfecc7d5524dd786d5e8db47a43f43",
            "08c08caa600740cd8c5831ceca4ce7fa",
            "389be58c66104f2880784ad10822eaaa",
            "e6b41f4b69f34e2081e60b663e278c34",
            "2baca0a7d7974f58a2fb29fa7b50b741",
            "550fedf4ac0945dab7f249e8af9562ad",
            "758804bb8ce74f16abf5fb7b99811537",
            "fdbda3f739dc4c3e85b00d75808e53f6",
            "dbac4827b6cd4381978432567e16ffab",
            "b0eb6817247941ba84862ea91e4d3973",
            "fbc308d786a74025b88c3fc878e514a4",
            "3e70609651c84326b9d6d3f75a3f65c2"
          ]
        },
        "id": "hIHO26Z9q-Sm",
        "outputId": "574f9746-db54-48d9-c6d9-7f05b7aa4cff"
      },
      "execution_count": null,
      "outputs": [
        {
          "output_type": "display_data",
          "data": {
            "text/plain": [
              "tokenizer_config.json:   0%|          | 0.00/2.54k [00:00<?, ?B/s]"
            ],
            "application/vnd.jupyter.widget-view+json": {
              "version_major": 2,
              "version_minor": 0,
              "model_id": "58447e8a8e3d4b21a2af7b7c076a0189"
            }
          },
          "metadata": {}
        },
        {
          "output_type": "display_data",
          "data": {
            "text/plain": [
              "spiece.model:   0%|          | 0.00/792k [00:00<?, ?B/s]"
            ],
            "application/vnd.jupyter.widget-view+json": {
              "version_major": 2,
              "version_minor": 0,
              "model_id": "842f793204d346f09e2bd53401578ad3"
            }
          },
          "metadata": {}
        },
        {
          "output_type": "display_data",
          "data": {
            "text/plain": [
              "special_tokens_map.json:   0%|          | 0.00/2.20k [00:00<?, ?B/s]"
            ],
            "application/vnd.jupyter.widget-view+json": {
              "version_major": 2,
              "version_minor": 0,
              "model_id": "d3cb648152504ea9bf2861d5b793d325"
            }
          },
          "metadata": {}
        },
        {
          "output_type": "display_data",
          "data": {
            "text/plain": [
              "tokenizer.json:   0%|          | 0.00/2.42M [00:00<?, ?B/s]"
            ],
            "application/vnd.jupyter.widget-view+json": {
              "version_major": 2,
              "version_minor": 0,
              "model_id": "33321c0999d5417487c87f77d5b5aa91"
            }
          },
          "metadata": {}
        },
        {
          "output_type": "stream",
          "name": "stderr",
          "text": [
            "You are using the default legacy behaviour of the <class 'transformers.models.t5.tokenization_t5.T5Tokenizer'>. This is expected, and simply means that the `legacy` (previous) behavior will be used so nothing changes for you. If you want to use the new behaviour, set `legacy=False`. This should only be set if you understand what it means, and thoroughly read the reason why this was added as explained in https://github.com/huggingface/transformers/pull/24565\n"
          ]
        },
        {
          "output_type": "display_data",
          "data": {
            "text/plain": [
              "config.json:   0%|          | 0.00/662 [00:00<?, ?B/s]"
            ],
            "application/vnd.jupyter.widget-view+json": {
              "version_major": 2,
              "version_minor": 0,
              "model_id": "15efe4ca569b4db3bbeaa6e13beb6974"
            }
          },
          "metadata": {}
        },
        {
          "output_type": "display_data",
          "data": {
            "text/plain": [
              "model.safetensors:   0%|          | 0.00/3.13G [00:00<?, ?B/s]"
            ],
            "application/vnd.jupyter.widget-view+json": {
              "version_major": 2,
              "version_minor": 0,
              "model_id": "b2ae9d013d6043079ac2ca43bacc1ca5"
            }
          },
          "metadata": {}
        },
        {
          "output_type": "display_data",
          "data": {
            "text/plain": [
              "generation_config.json:   0%|          | 0.00/147 [00:00<?, ?B/s]"
            ],
            "application/vnd.jupyter.widget-view+json": {
              "version_major": 2,
              "version_minor": 0,
              "model_id": "08c08caa600740cd8c5831ceca4ce7fa"
            }
          },
          "metadata": {}
        },
        {
          "output_type": "stream",
          "name": "stdout",
          "text": [
            "<pad>The image is a bar graph that shows the percentage of respondents who have received Facebook Messenger and WhatsApp\n"
          ]
        }
      ]
    },
    {
      "cell_type": "markdown",
      "source": [
        "## openai-community/gpt2"
      ],
      "metadata": {
        "id": "Fxwi8tTjr8pe"
      }
    },
    {
      "cell_type": "code",
      "source": [
        "from transformers import GPT2Tokenizer, GPT2LMHeadModel\n",
        "\n",
        "# Load pre-trained model and tokenizer\n",
        "tokenizer = GPT2Tokenizer.from_pretrained('gpt2')\n",
        "model = GPT2LMHeadModel.from_pretrained('gpt2')\n",
        "\n",
        "# Your text to summarize\n",
        "text = \"create business insights and suggest actions for companies according to this chart description: The image is a bar graph that shows the percentage of respondents who have received Facebook Messenger and WhatsApp messages. The x-axis of the graph is divided into four sections, each representing a different percentage.\\n\\nThe first section, representing Facebook Messenger, shows that the majority of respondents have received the same percentage as the other three. The second section, represented by WhatsApp, shows a percentage of the respondents. The third section, from 18-29 to 30-59, shows an increase in the percentage. The fourth section, titled Facebook Messenger, shows a decrease in the number of respondents with the highest percentage. \\n\\nThere are also several icons on the top right corner of the image, including a search bar, a chat icon, and a social media icon. The text on the image reads Additional Information and Statista 2021\"\n",
        "\n",
        "# Tokenize input text\n",
        "encoded_input = tokenizer.encode(text, return_tensors='pt')\n",
        "\n",
        "# Generate summary (using the model's text generation capability)\n",
        "summary_ids = model.generate(encoded_input, max_new_tokens=50, num_beams=5, no_repeat_ngram_size=2, early_stopping=True)\n",
        "\n",
        "# Decode the generated tokens back to text\n",
        "summary = tokenizer.decode(summary_ids[0], skip_special_tokens=True)\n",
        "\n",
        "# Print the summary\n",
        "print(summary)\n"
      ],
      "metadata": {
        "colab": {
          "base_uri": "https://localhost:8080/"
        },
        "id": "S6X70fza0-yp",
        "outputId": "68425315-ce27-4815-9656-65e09c7c418b"
      },
      "execution_count": null,
      "outputs": [
        {
          "output_type": "stream",
          "name": "stderr",
          "text": [
            "The attention mask and the pad token id were not set. As a consequence, you may observe unexpected behavior. Please pass your input's `attention_mask` to obtain reliable results.\n",
            "Setting `pad_token_id` to `eos_token_id`:50256 for open-end generation.\n"
          ]
        },
        {
          "output_type": "stream",
          "name": "stdout",
          "text": [
            "create business insights and suggest actions for companies according to this chart description: The image is a bar graph that shows the percentage of respondents who have received Facebook Messenger and WhatsApp messages. The x-axis of the graph is divided into four sections, each representing a different percentage.\n",
            "\n",
            "The first section, representing Facebook Messenger, shows that the majority of respondents have received the same percentage as the other three. The second section, represented by WhatsApp, shows a percentage of the respondents. The third section, from 18-29 to 30-59, shows an increase in the percentage. The fourth section, titled Facebook Messenger, shows a decrease in the number of respondents with the highest percentage. \n",
            "\n",
            "There are also several icons on the top right corner of the image, including a search bar, a chat icon, and a social media icon. The text on the image reads Additional Information and Statista 2021, which can be found at: https://en.wikipedia.org/wiki/Additional_Information_and_Statista_2021.\n"
          ]
        }
      ]
    },
    {
      "cell_type": "markdown",
      "source": [
        "## facebook/bart-large-cnn"
      ],
      "metadata": {
        "id": "hEi6Y2NbsTrY"
      }
    },
    {
      "cell_type": "code",
      "source": [
        "# Use a pipeline as a high-level helper\n",
        "from transformers import pipeline\n",
        "\n",
        "pipe = pipeline(\"summarization\", model=\"facebook/bart-large-cnn\")"
      ],
      "metadata": {
        "colab": {
          "base_uri": "https://localhost:8080/",
          "height": 226,
          "referenced_widgets": [
            "e471bd8e2beb4e33a239ed84c1e07164",
            "789646b3e064463f8c207e29cc2d029e",
            "97fb083915bc41dbb503ba51db994f13",
            "31cb0e04f9c844bf9948759886b87bde",
            "c9768ba52e794530af5fbdddce395037",
            "c9d1ffdb2826454eb7102bfc7bdd5184",
            "7ad24c7904ad45728b58c1817f56895f",
            "058168c112974e5c964224e9519607c2",
            "48db15547a3544b9a9ecb92cd1810dd4",
            "c4e50b20fa8c4e76804b4b8b4acb08c7",
            "6b3539ac238846968d269e030d2880eb",
            "890f6a7ab3484916aed1e51be44456b4",
            "672d43f6d39e41d48e868a6b162ef4f5",
            "79b1cd52ac0f43a0a4d038a59d2404e5",
            "b1b7de0351874b9a8ba316f55716befc",
            "dda7ce0f49b44cfbbce8ba163e0c638e",
            "d4fb847df8a447abb629afec0a4e58e7",
            "63086ead94e545f69f0128c786b097c1",
            "daf8b6d750754ba286f29877a768399b",
            "03e99c69d347420d9819c45e137c646c",
            "e6e5e3d5aab14c619b8a4ae1fdb7629b",
            "64d9d18d6ad8490e82ebb4986184ce57",
            "880918a9357a41b9a7fa5aa968a7a471",
            "80c52ead3b0a4c6597751fe1d3abffd2",
            "2662d252b88a41bd861550782572c08c",
            "b27d42a080f440308a216abff03d5483",
            "b03fc5de84e04bac897cca7d88c02cfd",
            "4be12436a59043d3a60f0e73aac725ac",
            "3b9a7918adbb4aeeae57cd20261a6910",
            "b820a541ad8141eab551fc37c0e4adaa",
            "1208598d6dc44e99a828090306b69881",
            "1614433d1aa349e98d187a7657b864c9",
            "69471029d186468a8ea200ccf9627206",
            "5fad8c699594437f9850a2884b6d9d93",
            "f588054906674a0a8bbd9bf3a1ad7a8a",
            "805c853ac57242368e3e5cc2c461b471",
            "10ea40d738ca4d9499969d307235dcd8",
            "96295920ddd34ad7a09c12fc94173d47",
            "894987d166f7457097a5ca27f85443b1",
            "8df57181978d4486ac3ed3e018e90b64",
            "28f6ea599b914d9bb7bd5eecd117de57",
            "baae748a5a9049d8bf27515b8fd5be73",
            "35d2259d375141378ef2802cf1469bf3",
            "14bbc170426848b08cb2ab6c7731387f",
            "8c8b09e5c6254800937680fcdca319a9",
            "73b81c1ef62f45359e336d1c0dc3d534",
            "b8298ad17118423f9765b664a2a65711",
            "0d8bd2e5c98b47b092052c51a717ede8",
            "15bf1210aaf9405b90ca307baaa1480e",
            "8080a69b2f0a43f089e6524d70682673",
            "8edc6d597d064ab4ae7ed2e687acb1f6",
            "d6291c6d966446938d05e7cbcb31015a",
            "8406a595bf754c16966e1dc5baeff06d",
            "301fafe617d94099a6455bb5b8e1c0a6",
            "7cceba4a9c084a7c92e831f6789016c5",
            "b80398eb08de4672b414e4b90d871026",
            "2c092fa1db944c0299397073a76c69b0",
            "7e76799ce71543ac8d9654ded38779c1",
            "ff810a5823f746dc9732c32589c20d0f",
            "8ed00d0b77d841c086989982cc3ef7a4",
            "3bad8928e6cc41879d04caab2fab48e5",
            "a4a70fbce4c34ce990b8009b4843e4d4",
            "cab743c67ee448c8af540bc5410dc066",
            "04669a4e81874ef9b00204e1ccea5b7d",
            "00e065e0236f480a82d869a81434959a",
            "b2f1713c2e704dfcbec9e6f64c640e4b"
          ]
        },
        "id": "HsEpm2K61oSJ",
        "outputId": "9906e87b-0fd7-4e60-89dd-2863233aae0f"
      },
      "execution_count": null,
      "outputs": [
        {
          "output_type": "display_data",
          "data": {
            "text/plain": [
              "config.json:   0%|          | 0.00/1.58k [00:00<?, ?B/s]"
            ],
            "application/vnd.jupyter.widget-view+json": {
              "version_major": 2,
              "version_minor": 0,
              "model_id": "e471bd8e2beb4e33a239ed84c1e07164"
            }
          },
          "metadata": {}
        },
        {
          "output_type": "display_data",
          "data": {
            "text/plain": [
              "model.safetensors:   0%|          | 0.00/1.63G [00:00<?, ?B/s]"
            ],
            "application/vnd.jupyter.widget-view+json": {
              "version_major": 2,
              "version_minor": 0,
              "model_id": "890f6a7ab3484916aed1e51be44456b4"
            }
          },
          "metadata": {}
        },
        {
          "output_type": "display_data",
          "data": {
            "text/plain": [
              "generation_config.json:   0%|          | 0.00/363 [00:00<?, ?B/s]"
            ],
            "application/vnd.jupyter.widget-view+json": {
              "version_major": 2,
              "version_minor": 0,
              "model_id": "880918a9357a41b9a7fa5aa968a7a471"
            }
          },
          "metadata": {}
        },
        {
          "output_type": "display_data",
          "data": {
            "text/plain": [
              "vocab.json:   0%|          | 0.00/899k [00:00<?, ?B/s]"
            ],
            "application/vnd.jupyter.widget-view+json": {
              "version_major": 2,
              "version_minor": 0,
              "model_id": "5fad8c699594437f9850a2884b6d9d93"
            }
          },
          "metadata": {}
        },
        {
          "output_type": "display_data",
          "data": {
            "text/plain": [
              "merges.txt:   0%|          | 0.00/456k [00:00<?, ?B/s]"
            ],
            "application/vnd.jupyter.widget-view+json": {
              "version_major": 2,
              "version_minor": 0,
              "model_id": "8c8b09e5c6254800937680fcdca319a9"
            }
          },
          "metadata": {}
        },
        {
          "output_type": "display_data",
          "data": {
            "text/plain": [
              "tokenizer.json:   0%|          | 0.00/1.36M [00:00<?, ?B/s]"
            ],
            "application/vnd.jupyter.widget-view+json": {
              "version_major": 2,
              "version_minor": 0,
              "model_id": "b80398eb08de4672b414e4b90d871026"
            }
          },
          "metadata": {}
        },
        {
          "output_type": "stream",
          "name": "stderr",
          "text": [
            "Device set to use cpu\n"
          ]
        }
      ]
    },
    {
      "cell_type": "code",
      "source": [
        "from transformers import pipeline\n",
        "\n",
        "summarizer = pipeline(\"summarization\", model=\"facebook/bart-large-cnn\")\n",
        "\n",
        "ARTICLE = \"\"\" The image is a bar graph that shows the percentage of respondents who have received Facebook Messenger and WhatsApp messages.\n",
        "              The x-axis of the graph is divided into four sections, each representing a different percentage.\n",
        "              The first section, representing Facebook Messenger, shows that the majority of respondents have received the same percentage as the other three.\n",
        "              The second section, represented by WhatsApp, shows a percentage of the respondents.\n",
        "              The third section, from 18-29 to 30-59, shows an increase in the percentage.\n",
        "              The fourth section, titled Facebook Messenger, shows a decrease in the number of respondents with the highest percentage.\n",
        "              There are also several icons on the top right corner of the image, including a search bar, a chat icon, and a social media icon.\n",
        "              The text on the image reads Additional Information and Statista 2021.\n",
        "\"\"\"\n",
        "print(summarizer(ARTICLE, max_length=130, min_length=30, do_sample=False))"
      ],
      "metadata": {
        "colab": {
          "base_uri": "https://localhost:8080/"
        },
        "id": "9I1fXau6sV3Y",
        "outputId": "3320092d-a692-4908-d1cf-4f34f425bb64"
      },
      "execution_count": null,
      "outputs": [
        {
          "output_type": "stream",
          "name": "stderr",
          "text": [
            "Device set to use cpu\n"
          ]
        },
        {
          "output_type": "stream",
          "name": "stdout",
          "text": [
            "[{'summary_text': 'The image is a bar graph that shows the percentage of respondents who have received Facebook Messenger and WhatsApp messages. The x-axis of the graph is divided into four sections, each representing a different percentage.'}]\n"
          ]
        }
      ]
    },
    {
      "cell_type": "markdown",
      "source": [
        "# Chart-Text"
      ],
      "metadata": {
        "id": "4ukf3Zwq_Vu1"
      }
    },
    {
      "cell_type": "markdown",
      "source": [
        "## google/matcha-chart2text-pew"
      ],
      "metadata": {
        "id": "zmtUVISbQhq3"
      }
    },
    {
      "cell_type": "code",
      "source": [
        "from PIL import Image\n",
        "import requests\n",
        "import torch\n",
        "from transformers import AutoProcessor, AutoModelForImageTextToText\n",
        "\n",
        "# Load the processor and model\n",
        "processor = AutoProcessor.from_pretrained(\"google/matcha-chart2text-pew\")\n",
        "model = AutoModelForImageTextToText.from_pretrained(\"google/matcha-chart2text-pew\")\n",
        "\n",
        "# Download a sample chart image\n",
        "url = \"https://raw.githubusercontent.com/vis-nlp/ChartQA/main/ChartQA%20Dataset/val/png/20294671002019.png\"\n",
        "image = Image.open(requests.get(url, stream=True).raw)\n",
        "\n",
        "# Define a question related to the chart\n",
        "question = \"What is the percentage of children in the world?\"\n",
        "\n",
        "# Process the input\n",
        "inputs = processor(images=image, header_text=question, return_tensors=\"pt\")\n",
        "\n",
        "# Generate prediction\n",
        "with torch.no_grad():  # Disable gradient calculations for inference\n",
        "    predictions = model.generate(**inputs, max_new_tokens=150)\n",
        "\n",
        "# Decode and display the result\n",
        "output_text = processor.decode(predictions[0], skip_special_tokens=True)\n",
        "print(\"Extracted Answer:\", output_text)\n"
      ],
      "metadata": {
        "colab": {
          "base_uri": "https://localhost:8080/"
        },
        "id": "RJeQurFiT8mF",
        "outputId": "da938686-1fe1-4505-8f9b-088311d08f48"
      },
      "execution_count": null,
      "outputs": [
        {
          "output_type": "stream",
          "name": "stdout",
          "text": [
            "Extracted Answer: This chart shows the7-percentage-child deaths among the world’s 116 million children. For a country with a population of 1.3 million, that’s two-to-one. (180% of all births in the world are to unmarried children). In addition, 14% of children are to be65.1% of the population.\n"
          ]
        }
      ]
    },
    {
      "cell_type": "markdown",
      "source": [
        "## ahmed-masry/chartgemma"
      ],
      "metadata": {
        "id": "b4iCxTiUQ3Js"
      }
    },
    {
      "cell_type": "code",
      "source": [
        "from PIL import Image\n",
        "import requests\n",
        "import torch\n",
        "from transformers import AutoProcessor, AutoModelForImageTextToText\n",
        "\n",
        "processor = AutoProcessor.from_pretrained(\"ahmed-masry/chartgemma\")\n",
        "model = AutoModelForImageTextToText.from_pretrained(\"ahmed-masry/chartgemma\")\n",
        "\n",
        "torch.hub.download_url_to_file('https://raw.githubusercontent.com/vis-nlp/ChartQA/main/ChartQA%20Dataset/val/png/multi_col_1229.png', 'chart_example_1.png')\n",
        "\n",
        "image_path = \"/content/chart_example_1.png\"\n",
        "input_text =\"program of thought: what is the sum of Facebook Messenger and Whatsapp values in the 18-29 age group?\"\n",
        "\n",
        "device = torch.device(\"cuda\" if torch.cuda.is_available() else \"cpu\")\n",
        "model = model.to(device)\n",
        "\n",
        "# Process Inputs\n",
        "image = Image.open(image_path).convert('RGB')\n",
        "inputs = processor(text=input_text, images=image, return_tensors=\"pt\")\n",
        "prompt_length = inputs['input_ids'].shape[1]\n",
        "inputs = {k: v.to(device) for k, v in inputs.items()}\n",
        "\n",
        "# Generate\n",
        "generate_ids = model.generate(**inputs, num_beams=4, max_new_tokens=512)\n",
        "output_text = processor.batch_decode(generate_ids[:, prompt_length:], skip_special_tokens=True, clean_up_tokenization_spaces=False)[0]\n",
        "print(output_text)"
      ],
      "metadata": {
        "id": "tXFAHPMnafYF",
        "colab": {
          "base_uri": "https://localhost:8080/",
          "height": 157,
          "referenced_widgets": [
            "f51380a95cdc4a0a98763765f2837a6a",
            "c8827d39f12d440783ee1cf9a06b7778",
            "572879c4acb94680af9c1f2ff455c714",
            "63d940cbf01845c9ad8ec0e3dd92c901",
            "f9d3bfc4e1a448308fb82227801f79a6",
            "2404332fba1343f297156f35bcbb96c7",
            "a8ed53e0b58543279821a6402184dd9c",
            "419941b415db4141843a935fe340ade4",
            "1eb5311b0a6f47569505acdd0af23ec5",
            "e90160d0ae9740e8b994fae0983267a8",
            "f32e35288a724e92b73089cac904e95f"
          ]
        },
        "outputId": "909e7b21-e785-492e-a078-d88365c3f8a3"
      },
      "execution_count": null,
      "outputs": [
        {
          "output_type": "display_data",
          "data": {
            "text/plain": [
              "Loading checkpoint shards:   0%|          | 0/3 [00:00<?, ?it/s]"
            ],
            "application/vnd.jupyter.widget-view+json": {
              "version_major": 2,
              "version_minor": 0,
              "model_id": "f51380a95cdc4a0a98763765f2837a6a"
            }
          },
          "metadata": {}
        },
        {
          "output_type": "stream",
          "name": "stderr",
          "text": [
            "100%|██████████| 34.2k/34.2k [00:00<00:00, 17.0MB/s]\n",
            "You are passing both `text` and `images` to `PaliGemmaProcessor`. The processor expects special image tokens in the text, as many tokens as there are images per each text. It is recommended to add `<image>` tokens in the very beginning of your text. For this call, we will infer how many images each text has and add special tokens.\n"
          ]
        },
        {
          "output_type": "stream",
          "name": "stdout",
          "text": [
            "facebook_messenger_18_29 = 73\n",
            "whatsapp_value_18_29 = 30\n",
            "sum = facebook_messenger_18_29 + whatsapp_value_18_29\n",
            "print(sum)\n"
          ]
        }
      ]
    }
  ]
}