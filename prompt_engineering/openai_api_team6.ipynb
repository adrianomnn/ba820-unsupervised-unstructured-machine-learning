{
  "cells": [
    {
      "cell_type": "code",
      "execution_count": null,
      "metadata": {},
      "outputs": [],
      "source": [
        "'''\n",
        "@Time    :   2025/03/01 20:53:39\n",
        "@Author  :   Adriano Nogueira\n",
        "'''"
      ]
    },
    {
      "cell_type": "code",
      "execution_count": 1,
      "metadata": {
        "colab": {
          "base_uri": "https://localhost:8080/"
        },
        "id": "yR8pE53LNo7R",
        "outputId": "33ab5eb2-6c58-47c2-a561-1bc38a4c5752"
      },
      "outputs": [
        {
          "name": "stdout",
          "output_type": "stream",
          "text": [
            "Requirement already satisfied: openai in /usr/local/lib/python3.11/dist-packages (1.61.1)\n",
            "Collecting openai\n",
            "  Downloading openai-1.63.2-py3-none-any.whl.metadata (27 kB)\n",
            "Requirement already satisfied: anyio<5,>=3.5.0 in /usr/local/lib/python3.11/dist-packages (from openai) (3.7.1)\n",
            "Requirement already satisfied: distro<2,>=1.7.0 in /usr/local/lib/python3.11/dist-packages (from openai) (1.9.0)\n",
            "Requirement already satisfied: httpx<1,>=0.23.0 in /usr/local/lib/python3.11/dist-packages (from openai) (0.28.1)\n",
            "Requirement already satisfied: jiter<1,>=0.4.0 in /usr/local/lib/python3.11/dist-packages (from openai) (0.8.2)\n",
            "Requirement already satisfied: pydantic<3,>=1.9.0 in /usr/local/lib/python3.11/dist-packages (from openai) (2.10.6)\n",
            "Requirement already satisfied: sniffio in /usr/local/lib/python3.11/dist-packages (from openai) (1.3.1)\n",
            "Requirement already satisfied: tqdm>4 in /usr/local/lib/python3.11/dist-packages (from openai) (4.67.1)\n",
            "Requirement already satisfied: typing-extensions<5,>=4.11 in /usr/local/lib/python3.11/dist-packages (from openai) (4.12.2)\n",
            "Requirement already satisfied: idna>=2.8 in /usr/local/lib/python3.11/dist-packages (from anyio<5,>=3.5.0->openai) (3.10)\n",
            "Requirement already satisfied: certifi in /usr/local/lib/python3.11/dist-packages (from httpx<1,>=0.23.0->openai) (2025.1.31)\n",
            "Requirement already satisfied: httpcore==1.* in /usr/local/lib/python3.11/dist-packages (from httpx<1,>=0.23.0->openai) (1.0.7)\n",
            "Requirement already satisfied: h11<0.15,>=0.13 in /usr/local/lib/python3.11/dist-packages (from httpcore==1.*->httpx<1,>=0.23.0->openai) (0.14.0)\n",
            "Requirement already satisfied: annotated-types>=0.6.0 in /usr/local/lib/python3.11/dist-packages (from pydantic<3,>=1.9.0->openai) (0.7.0)\n",
            "Requirement already satisfied: pydantic-core==2.27.2 in /usr/local/lib/python3.11/dist-packages (from pydantic<3,>=1.9.0->openai) (2.27.2)\n",
            "Downloading openai-1.63.2-py3-none-any.whl (472 kB)\n",
            "\u001b[2K   \u001b[90m━━━━━━━━━━━━━━━━━━━━━━━━━━━━━━━━━━━━━━━━\u001b[0m \u001b[32m472.3/472.3 kB\u001b[0m \u001b[31m5.6 MB/s\u001b[0m eta \u001b[36m0:00:00\u001b[0m\n",
            "\u001b[?25hInstalling collected packages: openai\n",
            "  Attempting uninstall: openai\n",
            "    Found existing installation: openai 1.61.1\n",
            "    Uninstalling openai-1.61.1:\n",
            "      Successfully uninstalled openai-1.61.1\n",
            "Successfully installed openai-1.63.2\n"
          ]
        }
      ],
      "source": [
        "!pip install --upgrade openai"
      ]
    },
    {
      "cell_type": "code",
      "execution_count": 2,
      "metadata": {
        "colab": {
          "base_uri": "https://localhost:8080/"
        },
        "id": "by3xhBzQju5o",
        "outputId": "2936ed7c-20ee-4c10-ff25-332041562396"
      },
      "outputs": [
        {
          "name": "stdout",
          "output_type": "stream",
          "text": [
            "Collecting python-dotenv\n",
            "  Downloading python_dotenv-1.0.1-py3-none-any.whl.metadata (23 kB)\n",
            "Downloading python_dotenv-1.0.1-py3-none-any.whl (19 kB)\n",
            "Installing collected packages: python-dotenv\n",
            "Successfully installed python-dotenv-1.0.1\n"
          ]
        }
      ],
      "source": [
        "!pip install python-dotenv"
      ]
    },
    {
      "cell_type": "markdown",
      "metadata": {
        "id": "Yikoqefml8jE"
      },
      "source": [
        "# Importing Libraries"
      ]
    },
    {
      "cell_type": "code",
      "execution_count": 3,
      "metadata": {
        "id": "xcCN7Lo7l_a3"
      },
      "outputs": [],
      "source": [
        "from google.colab import drive\n",
        "from dotenv import load_dotenv\n",
        "import os\n",
        "from openai import OpenAI"
      ]
    },
    {
      "cell_type": "markdown",
      "metadata": {
        "id": "obUvftXYmEqf"
      },
      "source": [
        "# Mouting the Drive"
      ]
    },
    {
      "cell_type": "code",
      "execution_count": 4,
      "metadata": {
        "colab": {
          "base_uri": "https://localhost:8080/"
        },
        "id": "I6IVwmRDkpnk",
        "outputId": "2a22a5c4-0c81-4d1f-828e-1472409d89aa"
      },
      "outputs": [
        {
          "name": "stdout",
          "output_type": "stream",
          "text": [
            "Mounted at /content/drive\n"
          ]
        }
      ],
      "source": [
        "drive.mount('/content/drive')"
      ]
    },
    {
      "cell_type": "markdown",
      "metadata": {
        "id": "piXLX0PimHu_"
      },
      "source": [
        "# Acessing API Keys"
      ]
    },
    {
      "cell_type": "code",
      "execution_count": 5,
      "metadata": {
        "id": "hZjnRhXHjw9w"
      },
      "outputs": [],
      "source": [
        "# Change to your environment variable location in your Google Drive\n",
        "load_dotenv('/content/drive/MyDrive/Unsupervised Machine Learning/BA 820 Team 6/.env')\n",
        "\n",
        "api_key = os.getenv('API_KEY')\n",
        "\n",
        "OpenAI.api_key = api_key"
      ]
    },
    {
      "cell_type": "markdown",
      "metadata": {
        "id": "9AYCjpD2co9t"
      },
      "source": [
        "# Prompt Engineering Tests"
      ]
    },
    {
      "cell_type": "code",
      "execution_count": null,
      "metadata": {
        "colab": {
          "base_uri": "https://localhost:8080/"
        },
        "id": "fShjxhLGcMML",
        "outputId": "4f5d40aa-ec3d-4a94-abb7-9aebfd5682d2"
      },
      "outputs": [
        {
          "name": "stdout",
          "output_type": "stream",
          "text": [
            "Prompt engineering is a technique used in artificial intelligence and machine learning to design and create effective prompts that can guide the model to generate desired outputs. It involves carefully crafting the input provided to the model in order to influence the type of responses it produces.\n",
            "\n",
            "In prompt engineering, the goal is to design prompts that are clear, specific, and tailored to the task at hand. By providing the model with the right context and information, prompt engineering can help improve the accuracy and relevance of the model's outputs.\n",
            "\n",
            "Some key aspects of prompt engineering include choosing the right language and formatting for the prompt, selecting relevant examples and data to include in the prompt, and fine-tuning the prompt based on the model's performance.\n",
            "\n",
            "Overall, prompt engineering is an important technique for optimizing\n"
          ]
        }
      ],
      "source": [
        "prompt = \"Given a situation where a user is trying to understand the technique of prompt engineering, how would you explain it?\"\n",
        "\n",
        "\n",
        "client = OpenAI(\n",
        "    api_key=OpenAI.api_key,\n",
        ")\n",
        "\n",
        "chat_completion = client.chat.completions.create(\n",
        "    messages=[\n",
        "        {\n",
        "            \"role\": \"user\",\n",
        "            \"content\": prompt,\n",
        "        }\n",
        "    ],\n",
        "    model=\"gpt-3.5-turbo\",\n",
        "    max_tokens=150,\n",
        "    temperature=0.6\n",
        ")\n",
        "\n",
        "print(chat_completion.choices[0].message.content.strip())"
      ]
    },
    {
      "cell_type": "code",
      "execution_count": null,
      "metadata": {
        "colab": {
          "base_uri": "https://localhost:8080/"
        },
        "id": "RWjXHAxjcb40",
        "outputId": "4b7e46a3-5fd5-4002-a513-edcb24dd2663"
      },
      "outputs": [
        {
          "name": "stdout",
          "output_type": "stream",
          "text": [
            "Prompt engineering is a technique used in scientific computing to improve the efficiency and accuracy of simulations or calculations by carefully selecting the initial conditions or prompts given to the system being studied. The goal of prompt engineering is to guide the system towards a desired outcome or behavior by choosing the right inputs that will lead to the desired result.\n",
            "\n",
            "In practice, prompt engineering involves designing and choosing the prompts or initial conditions in such a way that they encourage the system to evolve in a specific direction or exhibit certain properties. This can be particularly useful in complex systems where the precise outcome is not known in advance, but certain behaviors or characteristics are desired.\n",
            "\n",
            "By strategically engineering the prompts, researchers can potentially reduce the computational effort needed to reach a particular outcome or improve the accuracy of the results obtained\n"
          ]
        }
      ],
      "source": [
        "prompt = \"Given a situation where a user is trying to understand the technique of prompt engineering, how would you explain it?\"\n",
        "\n",
        "client = OpenAI(\n",
        "    api_key=OpenAI.api_key,\n",
        ")\n",
        "\n",
        "chat_completion = client.chat.completions.create(\n",
        "messages = [\n",
        "    {\"role\": \"system\", \"content\": \"You are a postdoctoral researcher in scientific computing.\"},\n",
        "    {\"role\": \"user\", \"content\": prompt},\n",
        "],\n",
        "    model=\"gpt-3.5-turbo\",\n",
        "    max_tokens=150,\n",
        "    temperature=0.6\n",
        ")\n",
        "\n",
        "print(chat_completion.choices[0].message.content.strip())"
      ]
    },
    {
      "cell_type": "markdown",
      "metadata": {
        "id": "d--XIvyncs7q"
      },
      "source": [
        "# Image + Prompt Engineering"
      ]
    },
    {
      "cell_type": "code",
      "execution_count": null,
      "metadata": {
        "colab": {
          "base_uri": "https://localhost:8080/"
        },
        "id": "IwHgLK2dcnti",
        "outputId": "5b29b1bb-2f3a-49c5-95d6-33fff6c3adb6"
      },
      "outputs": [
        {
          "name": "stdout",
          "output_type": "stream",
          "text": [
            "Choice(finish_reason='stop', index=0, logprobs=None, message=ChatCompletionMessage(content='The chart displays the annual death rate from neonatal preterm birth complications per 100,000 children under 5 years old for various countries, specifically from the year 2004. \\n\\nKey points from the chart include:\\n\\n- **Laos** has the highest death rate at **396 deaths** per 100,000 children, indicated by the tallest bar.\\n- **Comoros** follows with a significantly lower rate of **180 deaths**.\\n- **Nicaragua** is next with **68 deaths**.\\n- **Australia** has a much lower rate of **18 deaths**.\\n- **Belgium** records the lowest rate in this chart, with **14 deaths**.\\n\\nThe vertical axis represents the death rates, while each colored bar corresponds to a different country, illustrating stark disparities in neonatal fatality rates associated with preterm birth complications.', refusal=None, role='assistant', audio=None, function_call=None, tool_calls=None))\n"
          ]
        }
      ],
      "source": [
        "client = OpenAI(\n",
        "    api_key=OpenAI.api_key,\n",
        ")\n",
        "\n",
        "response = client.chat.completions.create(\n",
        "    model=\"gpt-4o-mini\",\n",
        "    messages=[\n",
        "        {\n",
        "            \"role\": \"user\",\n",
        "            \"content\": [\n",
        "                {\"type\": \"text\", \"text\": \"Can you describe this chart?\"},\n",
        "                {\n",
        "                    \"type\": \"image_url\",\n",
        "                    \"image_url\": {\n",
        "                        \"url\": \"https://raw.githubusercontent.com/vis-nlp/ChartQA/main/ChartQA%20Dataset/val/png/20294671002019.png\",\n",
        "                    },\n",
        "                },\n",
        "            ],\n",
        "        }\n",
        "    ],\n",
        "    max_tokens=300,\n",
        ")\n",
        "\n",
        "print(response.choices[0])"
      ]
    },
    {
      "cell_type": "code",
      "execution_count": null,
      "metadata": {
        "colab": {
          "base_uri": "https://localhost:8080/"
        },
        "id": "Ez0whnfq5Eff",
        "outputId": "974949a1-187e-459a-bc63-a57ca25584ff"
      },
      "outputs": [
        {
          "name": "stdout",
          "output_type": "stream",
          "text": [
            "Choice(finish_reason='length', index=0, logprobs=None, message=ChatCompletionMessage(content=\"Based on the chart depicting the death rate from neonatal preterm birth complications in 2004:\\n\\n1. **High Mortality in Laos**: With a death rate of 396 per 100,000 children under five, Laos experiences a significantly higher mortality rate compared to the other countries listed. This indicates a critical need for enhanced maternal and neonatal health care services in Laos.\\n\\n2. **Moderate Rates in Comoros and Nicaragua**: Comoros has a death rate of 180, while Nicaragua's rate is 68. This suggests that both regions face challenges, but Comoros is much closer in severity to Laos than to Nicaragua, indicating the need for targeted health interventions.\\n\\n3. **Low Rates in Australia and Belgium**: Australia (18) and Belgium (14) show considerably lower rates of child deaths from this complication. Their health systems likely have better maternal care practices, access to neonatal services, and overall public health policies.\\n\\n4. **Disparity in Health Resources**: The stark differences in death rates across these countries highlight a significant disparity in health resources, access to quality healthcare, and education on neonatal care. Countries like Laos and Comoros may benefit from international aid and support to improve healthcare infrastructure.\\n\\n5. **Potential for Policy Change**: Policymakers in high-rate countries could focus on reproductive health education, improving prenatal and postnatal care, and investing in medical facilities to address these urgent health issues.\\n\\nIn summary, this data underscores the need for strategic health initiatives\", refusal=None, role='assistant', audio=None, function_call=None, tool_calls=None))\n"
          ]
        }
      ],
      "source": [
        "client = OpenAI(\n",
        "    api_key=OpenAI.api_key,\n",
        ")\n",
        "\n",
        "response = client.chat.completions.create(\n",
        "    model=\"gpt-4o-mini\",\n",
        "    messages=[\n",
        "        {\n",
        "            \"role\": \"user\",\n",
        "            \"content\": [\n",
        "                {\"type\": \"text\", \"text\": \"Can you produce business insights with the numbers of this chart?\"},\n",
        "                {\n",
        "                    \"type\": \"image_url\",\n",
        "                    \"image_url\": {\n",
        "                        \"url\": \"https://raw.githubusercontent.com/vis-nlp/ChartQA/main/ChartQA%20Dataset/val/png/20294671002019.png\",\n",
        "                    },\n",
        "                },\n",
        "            ],\n",
        "        }\n",
        "    ],\n",
        "    max_tokens=300,\n",
        ")\n",
        "\n",
        "print(response.choices[0])"
      ]
    },
    {
      "cell_type": "markdown",
      "metadata": {
        "id": "oZqGOxDWyfUS"
      },
      "source": [
        "# Final Prompt"
      ]
    },
    {
      "cell_type": "markdown",
      "metadata": {
        "id": "MUYCfnv3yhxX"
      },
      "source": [
        "Your Task:\n",
        "\n",
        "1) Chart Description (Max 50 words):\n",
        "Identify the chart type (e.g., bar chart, line graph, pie chart).\n",
        "Explain what the chart is about (e.g., sales trends, customer demographics).\n",
        "Summarize the key information it presents in simple terms.\n",
        "\n",
        "2) Insights & Actions (Max 50 words):\n",
        "Based on your description (and additional details from the URL), provide actionable insights from the chart.\n",
        "Include suggestions, next steps, or key takeaways relevant to a small business owner.\n",
        "\n",
        "Persona:\n",
        "A U.S.-based small business owner with some college education or below.\n",
        "Use plain, easy-to-understand English—avoid technical jargon."
      ]
    },
    {
      "cell_type": "code",
      "execution_count": 7,
      "metadata": {
        "colab": {
          "base_uri": "https://localhost:8080/"
        },
        "id": "iU029bFsBf3c",
        "outputId": "aedda0da-75a8-498c-9c0d-5848a58c86f9"
      },
      "outputs": [
        {
          "name": "stdout",
          "output_type": "stream",
          "text": [
            "Choice(finish_reason='stop', index=0, logprobs=None, message=ChatCompletionMessage(content='1) **Chart Description:** This bar chart illustrates the death rate from neonatal preterm birth complications in 2004, measured as annual child deaths per 100,000 children under five years old. Laos has the highest rate at 396, followed by Comoros (180), Nicaragua (68), Australia (18), and Belgium (14).\\n\\n2) **Insights & Actions:** The significant disparity in death rates suggests a need for improved maternal and neonatal healthcare in high-risk countries like Laos and Comoros. Small business owners in healthcare could explore opportunities to provide educational resources, training, or medical services aimed at reducing neonatal mortality.', refusal=None, role='assistant', audio=None, function_call=None, tool_calls=None))\n"
          ]
        }
      ],
      "source": [
        "client = OpenAI(\n",
        "    api_key=OpenAI.api_key,\n",
        ")\n",
        "\n",
        "response = client.chat.completions.create(\n",
        "    model=\"gpt-4o-mini\",\n",
        "    messages=[\n",
        "        {   \"role\": \"system\", \"content\": \"You are an U.S.-based small business owner with some college education or below. Use plain, easy-to-understand English—avoid technical jargon\",\n",
        "            \"role\": \"user\",\n",
        "            \"content\": [\n",
        "                {\"type\": \"text\", \"text\": \"1) Chart Description (Max 50 words): Identify the chart type (e.g., bar chart, line graph, pie chart). Explain what the chart is about (e.g., sales trends, customer demographics). Summarize the key information it presents in simple terms. 2) Insights & Actions (Max 50 words): Based on your description (and additional details from the URL), provide actionable insights from the chart. Include suggestions, next steps, or key takeaways relevant to a small business owner.\"},\n",
        "                {\n",
        "                    \"type\": \"image_url\",\n",
        "                    \"image_url\": {\n",
        "                        \"url\": \"https://raw.githubusercontent.com/vis-nlp/ChartQA/main/ChartQA%20Dataset/val/png/20294671002019.png\",\n",
        "                    },\n",
        "                },\n",
        "            ],\n",
        "        }\n",
        "    ]\n",
        ")\n",
        "\n",
        "print(response.choices[0])"
      ]
    },
    {
      "cell_type": "markdown",
      "metadata": {
        "id": "v1jZ7shGSV2W"
      },
      "source": [
        "1) **Chart Description:** This bar chart illustrates the death rate from neonatal preterm birth complications in 2004, measured as annual child deaths per 100,000 children under five years old. Laos has the highest rate at 396, followed by Comoros (180), Nicaragua (68), Australia (18), and Belgium (14).\n",
        "\n",
        "2) **Insights & Actions:** The significant disparity in death rates suggests a need for improved maternal and neonatal healthcare in high-risk countries like Laos and Comoros. Small business owners in healthcare could explore opportunities to provide educational resources, training, or medical services aimed at reducing neonatal mortality."
      ]
    },
    {
      "cell_type": "code",
      "execution_count": null,
      "metadata": {
        "id": "p3zXDPgp2yuq"
      },
      "outputs": [],
      "source": []
    }
  ],
  "metadata": {
    "colab": {
      "provenance": []
    },
    "kernelspec": {
      "display_name": "Python 3",
      "name": "python3"
    },
    "language_info": {
      "name": "python"
    }
  },
  "nbformat": 4,
  "nbformat_minor": 0
}
