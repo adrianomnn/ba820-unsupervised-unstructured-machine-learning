{
  "nbformat": 4,
  "nbformat_minor": 0,
  "metadata": {
    "colab": {
      "provenance": [],
      "machine_shape": "hm",
      "gpuType": "A100"
    },
    "kernelspec": {
      "name": "python3",
      "display_name": "Python 3"
    },
    "language_info": {
      "name": "python"
    }
  },
  "cells": [
    {
      "cell_type": "code",
      "execution_count": null,
      "metadata": {
        "colab": {
          "base_uri": "https://localhost:8080/"
        },
        "id": "RVVxG2wYAX3e",
        "outputId": "65399fd9-11e4-43e3-e2af-3eccc0e77405"
      },
      "outputs": [
        {
          "output_type": "stream",
          "name": "stdout",
          "text": [
            "Mounted at /content/drive\n"
          ]
        }
      ],
      "source": [
        "from google.colab import drive\n",
        "import glob, os\n",
        "from PIL import Image\n",
        "\n",
        "# Mount Google Drive\n",
        "drive.mount('/content/drive')\n",
        "\n",
        "# # Set the image folder path (adjust if needed)\n",
        "# image_folder = \"/content/drive/MyDrive/BA820-Unsupervised ML/BA 820 Team 6/milestone 2/MarketingCharts\"\n",
        "\n",
        "# # Retrieve list of image files in the folder (adjust file pattern as needed)\n",
        "# image_paths = glob.glob(os.path.join(image_folder, \"*.*\"))\n",
        "# print(f\"Found {len(image_paths)} images in the folder.\")\n",
        "# for path in image_paths:\n",
        "#     print(os.path.basename(path))"
      ]
    },
    {
      "cell_type": "code",
      "source": [
        "import base64\n",
        "\n",
        "image_path = \"/content/drive/MyDrive/BA820-Unsupervised ML/BA 820 Team 6/milestone 2/MarketingCharts/scatter-line.png\"  # update this path\n",
        "\n",
        "# Read the image in binary and encode to base64\n",
        "with open(image_path, \"rb\") as img_file:\n",
        "    image_bytes = img_file.read()\n",
        "    base64_image = base64.b64encode(image_bytes).decode('utf-8')\n",
        "\n",
        "# Prepare a data URL string with the appropriate MIME type (e.g., image/png or image/jpeg)\n",
        "mime_type = \"image/png\"  # change to \"image/jpeg\" if your image is a JPG\n",
        "data_url = f\"data:{mime_type};base64,{base64_image}\"\n"
      ],
      "metadata": {
        "id": "2mkJdmSZVR6l"
      },
      "execution_count": null,
      "outputs": []
    },
    {
      "cell_type": "code",
      "source": [
        "from google.colab import userdata\n",
        "from openai import OpenAI\n",
        "import openai\n",
        "openai.api_key = userdata.get('openai')  # OpenAI API key for ChatGPT\n",
        "client = OpenAI(api_key=openai.api_key)"
      ],
      "metadata": {
        "id": "EJRkJpyCBTea"
      },
      "execution_count": null,
      "outputs": []
    },
    {
      "cell_type": "markdown",
      "source": [
        "###Step 0: Initiate the task"
      ],
      "metadata": {
        "id": "iisNdK1dDKjq"
      }
    },
    {
      "cell_type": "code",
      "source": [
        "# DO NOT CHANGE THIS PART!!!\n",
        "# NEVER EVER\n",
        "\n",
        "import openai\n",
        "\n",
        "openai.api_key = openai.api_key  # ensure your API key is set\n",
        "\n",
        "# Create the message with text prompt + image\n",
        "messages = [\n",
        "    {\n",
        "        \"role\": \"user\",\n",
        "        \"content\": [\n",
        "            {\"type\": \"text\", \"text\": \"Please analyze the following chart and provide insights:\"},\n",
        "            {\"type\": \"image_url\", \"image_url\": {\"url\": data_url}}\n",
        "        ]\n",
        "    }\n",
        "]\n",
        "\n",
        "# Send the request to the GPT-4o-mini model\n",
        "response = client.chat.completions.create(\n",
        "    model=\"gpt-4o-mini\",       # or another vision-enabled model you have access to\n",
        "    messages=messages,\n",
        "    max_tokens=500             # adjust as needed for a full answer\n",
        ")\n",
        "\n",
        "# Extract and print the model's answer\n",
        "answer = response.choices[0].message.content\n",
        "print(answer)"
      ],
      "metadata": {
        "colab": {
          "base_uri": "https://localhost:8080/"
        },
        "id": "rTGm5z0xVu-f",
        "outputId": "c11d03a4-9def-4d37-eed9-386d40090a05"
      },
      "execution_count": null,
      "outputs": [
        {
          "output_type": "stream",
          "name": "stdout",
          "text": [
            "The chart presented is a control chart showing the relationship between total orders and late packaging incidents. Here are some insights based on the visual data:\n",
            "\n",
            "1. **Trend Analysis**: The overall trend appears to be a downward slope, indicating that as total orders increase, the number of late packaging incidents tends to decrease. This suggests possible improvements in the packaging process or enhanced efficiency over time.\n",
            "\n",
            "2. **Variability**: There are fluctuations represented by the scattered points around the trend line. While late packaging incidents decline overall, there are instances where late deliveries spike, particularly around certain total order values (e.g., around 336 and 321). This variability may indicate specific issues that warrant further investigation.\n",
            "\n",
            "3. **Performance Indicators**: The highest points on the chart indicate instances of late packaging exceeding 50 incidents, especially at lower total order numbers. This suggests that smaller orders might still be problematic, hinting at potential inefficiencies in handling smaller shipments.\n",
            "\n",
            "4. **Operational Opportunities**: Given the downward trend, the control chart suggests that operational changes implemented may be effective. However, to further improve, it may be helpful to focus on periods with higher late packaging rates to understand the underlying causes.\n",
            "\n",
            "5. **Benchmarking**: If there are industry standards for acceptable late packaging rates, comparing this data against such benchmarks could provide additional insights into operational performance.\n",
            "\n",
            "6. **Continuous Monitoring**: Ongoing monitoring is essential to maintain the trend and address any spikes promptly, ensuring that improvements continue as total orders fluctuate.\n",
            "\n",
            "In summary, the chart highlights a positive trend in reducing late packaging incidents with total orders, but it also suggests variability that could be targeted for further improvement.\n"
          ]
        }
      ]
    },
    {
      "cell_type": "code",
      "source": [
        "chatgpt_model = 'gpt-4o-mini'"
      ],
      "metadata": {
        "id": "QGdeNOX7X8Yc"
      },
      "execution_count": null,
      "outputs": []
    },
    {
      "cell_type": "code",
      "source": [
        "# DO NOT CHANGE THIS PART!!!\n",
        "# NEVER EVER\n",
        "# Please analyze the following chart and provide one key business insight. \"\n",
        "#         \"Assume the user is a U.S.-based small business owner with at most some college education. \"\n",
        "#         \"Use plain, easy-to-understand English and avoid technical jargon.\n",
        "\n",
        "def get_chatgpt_insight_from_dataurl(data_url):\n",
        "    # Combine your persona note with the analysis prompt\n",
        "    prompt_text = (\n",
        "        \"Help me to understand the chart\"\n",
        "    )\n",
        "\n",
        "    # Create the message with structured content: a text part and an image part.\n",
        "    messages = [\n",
        "        {\n",
        "            \"role\": \"user\",\n",
        "            \"content\": [\n",
        "                {\"type\": \"text\", \"text\": prompt_text},\n",
        "                {\"type\": \"image_url\", \"image_url\": {\"url\": data_url}}\n",
        "            ]\n",
        "        }\n",
        "    ]\n",
        "\n",
        "    try:\n",
        "        chat_response = client.chat.completions.create(\n",
        "            model=chatgpt_model,\n",
        "            messages=messages,\n",
        "            max_tokens=500  # adjust as needed for a full answer\n",
        "        )\n",
        "        chat_text = chat_response.choices[0].message.content.strip()\n",
        "    except Exception as e:\n",
        "        chat_text = f\"Error: {e}\"\n",
        "    return chat_text\n",
        "\n",
        "# Example usage: Pass the pre-encoded data_url to the function\n",
        "print(get_chatgpt_insight_from_dataurl(data_url))"
      ],
      "metadata": {
        "colab": {
          "base_uri": "https://localhost:8080/"
        },
        "id": "edWpo9uYXlWA",
        "outputId": "22b34310-0f2e-461b-a5ae-6ff85bc5ab5d"
      },
      "execution_count": null,
      "outputs": [
        {
          "output_type": "stream",
          "name": "stdout",
          "text": [
            "The chart you provided is a packaging control chart that displays the relationship between the \"Total Order\" (on the x-axis) and \"Late Packaging\" (on the y-axis).\n",
            "\n",
            "Here’s a breakdown to help you understand it:\n",
            "\n",
            "1. **Axes**:\n",
            "   - **X-Axis (Total Order)**: Represents the total number of orders. As you move from left to right, the number of orders increases.\n",
            "   - **Y-Axis (Late Packaging)**: Represents the number of instances of late packaging. This measurement indicates how many orders were packaged late.\n",
            "\n",
            "2. **Data Points**: The chart has several red dots that represent the number of late packaging instances for various total orders. These points appear scattered, indicating variability in the late packaging occurrences.\n",
            "\n",
            "3. **Trend Line**: The straight line running through the data points suggests a downward trend, indicating that as the total number of orders increases, the instances of late packaging tend to decrease overall. \n",
            "\n",
            "4. **Analysis**: \n",
            "   - **Overall Decrease**: This could imply that efficiency or processes related to packaging have improved over time, leading to fewer instances of late packaging as the total orders increased.\n",
            "   - **Variability**: While there is a general trend, the scattered nature of the points also shows that there are fluctuations; some total orders result in higher late packaging than others.\n",
            "\n",
            "5. **Implications**: If you're analyzing this data in a business context, it may encourage further investigation into the factors contributing to both the late packaging instances and the success in reducing those inconsistencies.\n",
            "\n",
            "In summary, the control chart illustrates a negative correlation between the total orders and late packaging, suggesting an improvement in packaging timeliness as order volume grows.\n"
          ]
        }
      ]
    },
    {
      "cell_type": "markdown",
      "source": [
        "###Step 1: Define the Evaluation Function"
      ],
      "metadata": {
        "id": "4cAOSYvfB1gi"
      }
    },
    {
      "cell_type": "code",
      "source": [
        "import re\n",
        "import json\n",
        "\n",
        "def evaluate_insight(insight_text):\n",
        "    eval_prompt = f\"\"\"\n",
        "Please evaluate the following insight according to these criteria. Provide a rating (0 to 5) for each category in JSON format:\n",
        "Accuracy (5: Fully accurate identification of the chart type and key data insights. 3-4: Minor errors but generally correct. 1-2: Significant inaccuracies or missing key details. 0: Completely incorrect),\n",
        "Relevance (5: Highlights the most critical insights with no unnecessary details. 3-4: Covers relevant points but includes minor off-topic information. 1-2: Misses key insights or includes too much irrelevant detail. 0: Completely irrelevant),\n",
        "Clarity (5: Very easy to understand with no jargon. 3-4: Mostly clear but has some complex wording. 1-2: Hard to understand due to technical terms or vague phrasing. 0: Unclear or confusing),\n",
        "Actionability (5: Clear, practical actions that are directly useful. 3-4: Somewhat useful but could be more specific. 1-2: Actions are too vague or impractical. 0: No actionable insights),\n",
        "Conciseness (5: Under 50 words, concise, and to the point. 3-4: Slightly over 50 words but still clear. 1-2: Too wordy or contains unnecessary details. 0: Far exceeds word limit or is too brief to be meaningful).\n",
        "\n",
        "Insight: {insight_text}\n",
        "\n",
        "Please output the result as:\n",
        "{{\"Accuracy\": x, \"Relevance\": x, \"Clarity\": x, \"Actionability\": x, \"Conciseness\": x}}\n",
        "    \"\"\"\n",
        "    chat_messages = [\n",
        "        {\"role\": \"user\", \"content\": eval_prompt}\n",
        "    ]\n",
        "\n",
        "    try:\n",
        "        chat_response = client.chat.completions.create(\n",
        "            model=chatgpt_model,\n",
        "            messages=chat_messages,\n",
        "            temperature=0  # To encourage deterministic output\n",
        "        )\n",
        "        eval_text = chat_response.choices[0].message.content.strip()\n",
        "        print(\"Raw evaluation output:\", eval_text)\n",
        "\n",
        "        # Remove markdown code block delimiters if present\n",
        "        # This regex removes the starting ```json (or ```), and ending ``` from the string.\n",
        "        eval_text_clean = re.sub(r\"^```(?:json)?\\s*\", \"\", eval_text).rstrip(\"`\").strip()\n",
        "\n",
        "        eval_scores = json.loads(eval_text_clean)\n",
        "    except Exception as e:\n",
        "        print(\"Error in evaluation:\", e)\n",
        "        eval_scores = {}\n",
        "    return eval_scores\n"
      ],
      "metadata": {
        "id": "NGiD7O7zdYeX"
      },
      "execution_count": null,
      "outputs": []
    },
    {
      "cell_type": "markdown",
      "source": [
        "###Step 2: Define a Function to Refine the Prompt"
      ],
      "metadata": {
        "id": "mcK2UudlB6Xu"
      }
    },
    {
      "cell_type": "code",
      "source": [
        "def refine_prompt(insight_text, eval_scores):\n",
        "    feedback = []\n",
        "    # Check each criterion and generate feedback if score is below 5.\n",
        "    if eval_scores.get(\"Accuracy\", 5) < 5:\n",
        "        feedback.append(\"improve the accuracy by better identifying the chart type and key data insights\")\n",
        "    if eval_scores.get(\"Relevance\", 5) < 5:\n",
        "        feedback.append(\"focus more on the most critical insights and remove unnecessary details\")\n",
        "    if eval_scores.get(\"Clarity\", 5) < 5:\n",
        "        feedback.append(\"simplify the language to improve clarity and avoid technical jargon\")\n",
        "    if eval_scores.get(\"Actionability\", 5) < 5:\n",
        "        feedback.append(\"suggest clearer, more practical actions\")\n",
        "    if eval_scores.get(\"Conciseness\", 5) < 5:\n",
        "        feedback.append(\"make the response less than 50 words\")\n",
        "\n",
        "    # If all scores are perfect, just return the original insight.\n",
        "    if not feedback:\n",
        "        return insight_text\n",
        "\n",
        "    feedback_text = \"; \".join(feedback)\n",
        "    new_prompt = f\"Based on the following feedback: {feedback_text}, please refine the following insight: {insight_text}\"\n",
        "    return new_prompt\n"
      ],
      "metadata": {
        "id": "ogAtDn2PB0VA"
      },
      "execution_count": null,
      "outputs": []
    },
    {
      "cell_type": "markdown",
      "source": [
        "###Step 3: Create the Iterative Loop"
      ],
      "metadata": {
        "id": "epMA_UveCGWI"
      }
    },
    {
      "cell_type": "code",
      "source": [
        "import pandas as pd\n",
        "import json\n",
        "\n",
        "def iterative_insight_process(data_url):\n",
        "    max_iterations = 5\n",
        "    target_avg_score = 4.5\n",
        "\n",
        "    # List to store evaluation records from each iteration\n",
        "    eval_records = []\n",
        "\n",
        "    # Generate the initial insight using the data URL-based function.\n",
        "    current_insight = get_chatgpt_insight_from_dataurl(data_url)\n",
        "    print(\"Initial Insight:\", current_insight)\n",
        "\n",
        "    # Store initial insight in the DataFrame\n",
        "    eval_records.append({\n",
        "        \"Iteration\": 0,\n",
        "        \"Insight\": current_insight,\n",
        "        \"Average\": None,\n",
        "        \"Accuracy\": None,\n",
        "        \"Relevance\": None,\n",
        "        \"Clarity\": None,\n",
        "        \"Actionability\": None,\n",
        "        \"Conciseness\": None\n",
        "    })\n",
        "\n",
        "    for iteration in range(1, max_iterations + 1):\n",
        "        print(f\"\\n--- Iteration {iteration} ---\")\n",
        "        eval_scores = evaluate_insight(current_insight)\n",
        "        if not eval_scores:\n",
        "            print(\"Evaluation failed. Exiting iteration.\")\n",
        "            break  # Exit if evaluation returns an empty result\n",
        "\n",
        "        # Calculate the average score safely\n",
        "        avg_score = sum(eval_scores.values()) / len(eval_scores) if eval_scores else 0\n",
        "\n",
        "        # Print each evaluation score individually\n",
        "        print(\"Evaluation Scores:\")\n",
        "        for key, value in eval_scores.items():\n",
        "            print(f\"  {key}: {value}\")\n",
        "        print(\"Average Score:\", avg_score)\n",
        "\n",
        "        # Store iteration data into a dictionary record\n",
        "        record = {\"Iteration\": iteration, \"Insight\": current_insight, \"Average\": avg_score}\n",
        "        record.update(eval_scores)\n",
        "        eval_records.append(record)\n",
        "\n",
        "        # Stop if target score is met\n",
        "        if avg_score >= target_avg_score:\n",
        "            print(\"Target average score reached. Stopping iterations.\")\n",
        "            break\n",
        "\n",
        "        # Generate refinement prompt based on evaluation feedback\n",
        "        refinement_prompt = refine_prompt(current_insight, eval_scores)\n",
        "        print(\"Refinement Prompt:\", refinement_prompt)\n",
        "\n",
        "        # Get new insight based solely on the refinement prompt\n",
        "        chat_messages = [{\"role\": \"user\", \"content\": refinement_prompt}]\n",
        "        try:\n",
        "            chat_response = client.chat.completions.create(\n",
        "                model=\"gpt-4o-mini\",\n",
        "                messages=chat_messages,\n",
        "                temperature=0  # Force deterministic output\n",
        "            )\n",
        "            current_insight = chat_response.choices[0].message.content.strip()\n",
        "            print(\"New Insight:\", current_insight)\n",
        "        except Exception as e:\n",
        "            print(\"Error during refinement:\", e)\n",
        "            break\n",
        "\n",
        "    # Final evaluation for the final insight.\n",
        "    final_eval_scores = evaluate_insight(current_insight)\n",
        "    if final_eval_scores:\n",
        "        final_avg = sum(final_eval_scores.values()) / len(final_eval_scores)\n",
        "        print(\"\\nFinal Evaluation Scores:\")\n",
        "        for key, value in final_eval_scores.items():\n",
        "            print(f\"  {key}: {value}\")\n",
        "        final_record = {\"Iteration\": \"Final\", \"Insight\": current_insight, \"Average\": final_avg}\n",
        "        final_record.update(final_eval_scores)\n",
        "        eval_records.append(final_record)\n",
        "    else:\n",
        "        print(\"Final evaluation failed, no scores available.\")\n",
        "\n",
        "    # Convert the records to a DataFrame.\n",
        "    df = pd.DataFrame(eval_records)\n",
        "    print(\"\\nEvaluation DataFrame:\")\n",
        "    print(df)\n",
        "\n",
        "    return current_insight, df\n",
        "\n",
        "# Example usage:\n",
        "final_insight, evaluation_df = iterative_insight_process(data_url)\n",
        "print(\"Final Insight:\", final_insight)\n"
      ],
      "metadata": {
        "colab": {
          "base_uri": "https://localhost:8080/"
        },
        "id": "EMzyNApDfavq",
        "outputId": "d0792207-87ee-42de-9c24-c1ec30e8d9c7"
      },
      "execution_count": null,
      "outputs": [
        {
          "output_type": "stream",
          "name": "stdout",
          "text": [
            "Initial Insight: This chart is a \"Packaging Control Chart,\" which tracks the number of late packagings in relation to total orders over time. Here's how to interpret its key elements:\n",
            "\n",
            "### Axes:\n",
            "- **X-Axis (Total Order)**: This represents the total number of orders placed.\n",
            "- **Y-Axis (Late Packaging)**: This measures the incidence of late packagings.\n",
            "\n",
            "### Trend:\n",
            "- The overall trend in the chart shows a downward slope, indicating that as the total number of orders increases, the number of late packagings is decreasing. This suggests improvement in the packaging process over time.\n",
            "\n",
            "### Data Points:\n",
            "- Each red dot represents a specific measurement of late packagings for corresponding total orders. The scattered nature of the dots above the trend line indicates some variability, even as the overall trend is downward.\n",
            "\n",
            "### Interpretation:\n",
            "- A decline in late packagings with an increase in total orders could imply that the packaging process is becoming more efficient or that there are improvements in operations or logistics in response to higher order volumes.\n",
            "\n",
            "### Conclusion:\n",
            "Overall, the chart indicates a positive trend, showing that the packaging process is improving as total orders rise. This could be an important metric for assessing operational efficiency.\n",
            "\n",
            "--- Iteration 1 ---\n",
            "Raw evaluation output: ```json\n",
            "{\"Accuracy\": 5, \"Relevance\": 5, \"Clarity\": 5, \"Actionability\": 4, \"Conciseness\": 3}\n",
            "```\n",
            "Evaluation Scores:\n",
            "  Accuracy: 5\n",
            "  Relevance: 5\n",
            "  Clarity: 5\n",
            "  Actionability: 4\n",
            "  Conciseness: 3\n",
            "Average Score: 4.4\n",
            "Refinement Prompt: Based on the following feedback: suggest clearer, more practical actions; make the response less than 50 words, please refine the following insight: This chart is a \"Packaging Control Chart,\" which tracks the number of late packagings in relation to total orders over time. Here's how to interpret its key elements:\n",
            "\n",
            "### Axes:\n",
            "- **X-Axis (Total Order)**: This represents the total number of orders placed.\n",
            "- **Y-Axis (Late Packaging)**: This measures the incidence of late packagings.\n",
            "\n",
            "### Trend:\n",
            "- The overall trend in the chart shows a downward slope, indicating that as the total number of orders increases, the number of late packagings is decreasing. This suggests improvement in the packaging process over time.\n",
            "\n",
            "### Data Points:\n",
            "- Each red dot represents a specific measurement of late packagings for corresponding total orders. The scattered nature of the dots above the trend line indicates some variability, even as the overall trend is downward.\n",
            "\n",
            "### Interpretation:\n",
            "- A decline in late packagings with an increase in total orders could imply that the packaging process is becoming more efficient or that there are improvements in operations or logistics in response to higher order volumes.\n",
            "\n",
            "### Conclusion:\n",
            "Overall, the chart indicates a positive trend, showing that the packaging process is improving as total orders rise. This could be an important metric for assessing operational efficiency.\n",
            "New Insight: This \"Packaging Control Chart\" shows late packagings versus total orders. \n",
            "\n",
            "**Actions:**\n",
            "1. Monitor late packaging data regularly.\n",
            "2. Investigate variability in data points.\n",
            "3. Implement process improvements based on trends.\n",
            "4. Set targets for further reducing late packagings.\n",
            "\n",
            "--- Iteration 2 ---\n",
            "Raw evaluation output: ```json\n",
            "{\"Accuracy\": 4, \"Relevance\": 5, \"Clarity\": 4, \"Actionability\": 4, \"Conciseness\": 3}\n",
            "```\n",
            "Evaluation Scores:\n",
            "  Accuracy: 4\n",
            "  Relevance: 5\n",
            "  Clarity: 4\n",
            "  Actionability: 4\n",
            "  Conciseness: 3\n",
            "Average Score: 4.0\n",
            "Refinement Prompt: Based on the following feedback: improve the accuracy by better identifying the chart type and key data insights; simplify the language to improve clarity and avoid technical jargon; suggest clearer, more practical actions; make the response less than 50 words, please refine the following insight: This \"Packaging Control Chart\" shows late packagings versus total orders. \n",
            "\n",
            "**Actions:**\n",
            "1. Monitor late packaging data regularly.\n",
            "2. Investigate variability in data points.\n",
            "3. Implement process improvements based on trends.\n",
            "4. Set targets for further reducing late packagings.\n",
            "New Insight: This chart compares late packagings to total orders. \n",
            "\n",
            "**Actions:**\n",
            "1. Track late packagings consistently.\n",
            "2. Analyze data for patterns.\n",
            "3. Improve processes based on findings.\n",
            "4. Establish goals to reduce late packagings.\n",
            "\n",
            "--- Iteration 3 ---\n",
            "Raw evaluation output: ```json\n",
            "{\"Accuracy\": 4, \"Relevance\": 5, \"Clarity\": 4, \"Actionability\": 4, \"Conciseness\": 3}\n",
            "```\n",
            "Evaluation Scores:\n",
            "  Accuracy: 4\n",
            "  Relevance: 5\n",
            "  Clarity: 4\n",
            "  Actionability: 4\n",
            "  Conciseness: 3\n",
            "Average Score: 4.0\n",
            "Refinement Prompt: Based on the following feedback: improve the accuracy by better identifying the chart type and key data insights; simplify the language to improve clarity and avoid technical jargon; suggest clearer, more practical actions; make the response less than 50 words, please refine the following insight: This chart compares late packagings to total orders. \n",
            "\n",
            "**Actions:**\n",
            "1. Track late packagings consistently.\n",
            "2. Analyze data for patterns.\n",
            "3. Improve processes based on findings.\n",
            "4. Establish goals to reduce late packagings.\n",
            "New Insight: This chart shows late packagings as a percentage of total orders. \n",
            "\n",
            "**Actions:**\n",
            "1. Monitor late packagings regularly.\n",
            "2. Identify trends in the data.\n",
            "3. Enhance processes based on insights.\n",
            "4. Set targets to minimize late packagings.\n",
            "\n",
            "--- Iteration 4 ---\n",
            "Raw evaluation output: ```json\n",
            "{\"Accuracy\": 5, \"Relevance\": 5, \"Clarity\": 5, \"Actionability\": 4, \"Conciseness\": 4}\n",
            "```\n",
            "Evaluation Scores:\n",
            "  Accuracy: 5\n",
            "  Relevance: 5\n",
            "  Clarity: 5\n",
            "  Actionability: 4\n",
            "  Conciseness: 4\n",
            "Average Score: 4.6\n",
            "Target average score reached. Stopping iterations.\n",
            "Raw evaluation output: ```json\n",
            "{\"Accuracy\": 5, \"Relevance\": 5, \"Clarity\": 5, \"Actionability\": 4, \"Conciseness\": 4}\n",
            "```\n",
            "\n",
            "Final Evaluation Scores:\n",
            "  Accuracy: 5\n",
            "  Relevance: 5\n",
            "  Clarity: 5\n",
            "  Actionability: 4\n",
            "  Conciseness: 4\n",
            "\n",
            "Evaluation DataFrame:\n",
            "  Iteration                                            Insight  Average  \\\n",
            "0         0  This chart is a \"Packaging Control Chart,\" whi...      NaN   \n",
            "1         1  This chart is a \"Packaging Control Chart,\" whi...      4.4   \n",
            "2         2  This \"Packaging Control Chart\" shows late pack...      4.0   \n",
            "3         3  This chart compares late packagings to total o...      4.0   \n",
            "4         4  This chart shows late packagings as a percenta...      4.6   \n",
            "5     Final  This chart shows late packagings as a percenta...      4.6   \n",
            "\n",
            "   Accuracy  Relevance  Clarity  Actionability  Conciseness  \n",
            "0       NaN        NaN      NaN            NaN          NaN  \n",
            "1       5.0        5.0      5.0            4.0          3.0  \n",
            "2       4.0        5.0      4.0            4.0          3.0  \n",
            "3       4.0        5.0      4.0            4.0          3.0  \n",
            "4       5.0        5.0      5.0            4.0          4.0  \n",
            "5       5.0        5.0      5.0            4.0          4.0  \n",
            "Final Insight: This chart shows late packagings as a percentage of total orders. \n",
            "\n",
            "**Actions:**\n",
            "1. Monitor late packagings regularly.\n",
            "2. Identify trends in the data.\n",
            "3. Enhance processes based on insights.\n",
            "4. Set targets to minimize late packagings.\n"
          ]
        }
      ]
    },
    {
      "cell_type": "code",
      "source": [],
      "metadata": {
        "id": "9dA8ZO7wBM0Y"
      },
      "execution_count": null,
      "outputs": []
    }
  ]
}